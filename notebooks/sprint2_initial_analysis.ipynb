{
  "cells": [
    {
      "cell_type": "markdown",
      "metadata": {
        "id": "Q2Jp7Nd9EQ9H"
      },
      "source": [
        "# **Bibliotecas Necessárias**"
      ]
    },
    {
      "cell_type": "code",
      "execution_count": null,
      "metadata": {
        "id": "2zj1iDprqhuc"
      },
      "outputs": [],
      "source": [
        "import pandas as pd\n",
        "import numpy as np\n",
        "import matplotlib.pyplot as plt\n",
        "import seaborn as sns\n",
        "import sklearn\n",
        "from sklearn.preprocessing import LabelEncoder\n",
        "bd = pd.read_csv('bd_unipar.csv', decimal=',')"
      ]
    },
    {
      "cell_type": "markdown",
      "metadata": {
        "id": "5k055UgVjzgU"
      },
      "source": [
        "# **Exploração de dados**"
      ]
    },
    {
      "cell_type": "markdown",
      "metadata": {
        "id": "0WOb0WWodq2X"
      },
      "source": [
        "A exploração de dados tem como objetivo facilitar a percepção e manipulação de informações, permitindo a extração de conhecimento e inferência por parte de usuários que não possuem expertise técnica na área. No contexto do projeto UniData, desenvolvido pelo grupo SGESP, a exploração de dados busca apresentar visual e descritivamente a correlação entre diferentes informações relativas à sinistralidade dos colaboradores da Unipar.\n",
        "\n",
        "Para a análise dos dados, foram utilizadas diversas ferramentas computacionais e matemáticas, com ênfase na linguagem de programação Python. O uso de bibliotecas de manipulação, visualização e análise de dados, como Pandas, Matplotlib, e Scikit-Learn, entre outras, foi fundamental nesse processo.\n",
        "\n",
        "**Python:**\n",
        "\n",
        "A linguagem de programação Python foi escolhida para o processo de exploração de dados devido à sua fácil legibilidade, ampla disponibilidade de bibliotecas, e suporte documental robusto. Essas características fazem do Python uma ferramenta poderosa para análises complexas de dados.\n",
        "\n",
        "**Bibliotecas:**\n",
        "\n",
        "Bibliotecas são coleções de código reutilizável que facilitam o trabalho dos programadores, fornecendo funções e módulos comumente utilizados, o que reduz a necessidade de se desenvolver soluções do zero para problemas recorrentes (HARVARD CS50, 2018).\n",
        "\n",
        "A seguir, destacam-se algumas das bibliotecas utilizadas no projeto:\n",
        "\n",
        "- **Pandas**: É uma biblioteca poderosa para análise e manipulação de dados. O Pandas se destaca por seus inúmeros métodos que facilitam o tratamento e a análise de _DataFrames_, permitindo operações eficientes de limpeza, filtragem, e transformação de dados.\n",
        "\n",
        "- **Matplotlib**: Essa biblioteca é amplamente utilizada para criar visualizações gráficas, tanto estáticas quanto dinâmicas, dos dados analisados em Python. O Matplotlib é uma ferramenta essencial para representar graficamente os padrões e tendências dos dados, ajudando a tornar as análises mais compreensíveis e intuitivas.\n",
        "\n",
        "O uso dessas ferramentas e bibliotecas permitiu que o projeto UniData obtivesse uma análise de dados mais eficiente e profunda, possibilitando uma melhor compreensão das relações entre diferentes variáveis associadas à sinistralidade dos colaboradores da Unipar."
      ]
    },
    {
      "cell_type": "markdown",
      "metadata": {
        "id": "PC0R5dNQkXu7"
      },
      "source": [
        "### **Resumo das informações encontradas na base de dados**\n"
      ]
    },
    {
      "cell_type": "markdown",
      "metadata": {
        "id": "E32TUyTKkNIy"
      },
      "source": [
        "Para a análise inicial do banco de dados, sem qualquer tratamento prévio, dois comandos principais se destacam:\n",
        "\n",
        "1. **`pd.read_csv`**: O primeiro passo é incluir o banco de dados ao _DataFrame_. Isso permite que os dados sejam manipulados e analisados diretamente no Python.\n",
        "\n",
        "2. **`.info()`**: Em seguida, o método `.info()` é utilizado para gerar um resumo informativo sobre o _DataFrame_. Esse comando fornece informações essenciais, como:\n",
        "\n",
        "   - **Número de entradas (linhas)**: Indica a quantidade de registros presentes no _DataFrame_.\n",
        "   - **Colunas (categorias de informação)**: Mostra todas as colunas disponíveis e seus respectivos nomes.\n",
        "   - **Tipos de dados de cada coluna**: Exibe o tipo de dado contido em cada coluna, como `int64` (números inteiros), `float64` (números decimais), ou `object` (strings).\n",
        "   - **Número de dados não nulos**: Aponta a quantidade de entradas não nulas em cada coluna.\n",
        "   - **Quantidade de memória ocupada pelo _DataFrame_**: Indica a quantidade de memória que o _DataFrame_ consome, o que é útil para avaliar o impacto no desempenho.\n",
        "\n",
        "Essa análise inicial é crucial para entender a estrutura e a qualidade dos dados antes de aplicar qualquer técnica de limpeza ou transformação."
      ]
    },
    {
      "cell_type": "code",
      "execution_count": null,
      "metadata": {
        "colab": {
          "base_uri": "https://localhost:8080/"
        },
        "id": "JiNuOCx0kd1P",
        "outputId": "4427d1ae-f858-4186-a43f-6c40f1fb3f2a"
      },
      "outputs": [],
      "source": [
        "bd.info()"
      ]
    },
    {
      "cell_type": "markdown",
      "metadata": {
        "id": "nWwqcMIY_BgU"
      },
      "source": [
        "### **Estatística descritiva das colunas**"
      ]
    },
    {
      "cell_type": "markdown",
      "metadata": {
        "id": "LXlS1Chko_Jf"
      },
      "source": [
        "Para realizar a estatística descritiva das colunas, utilizamos o método `.describe()` do Pandas. Estatísticas descritivas são basicamente ferramentas que usamos para resumir e entender os principais aspectos de um conjunto de dados. Então, ao invés de olhar dado por dado, a estatística descritiva nos dá uma visão geral do que está acontecendo com os dados.\n",
        "\n",
        "Com a utilização do método `.describe()`, percebe-se o retorno de algumas estatísticas descritivas interessantes, como:\n",
        "\n",
        "1. **Count**: O número de valores não nulos em cada coluna.\n",
        "2. **Mean**: A média (valor médio) de cada coluna numérica.\n",
        "3. **Std**: O desvio padrão, que indica a dispersão dos dados em relação à média.\n",
        "4. **Min**: O valor mínimo em cada coluna.\n",
        "5. **25%**: O primeiro quartil, ou o valor abaixo do qual 25% dos dados caem.\n",
        "6. **50%**: A mediana, ou o valor central dos dados (também conhecido como segundo quartil).\n",
        "7. **75%**: O terceiro quartil, ou o valor abaixo do qual 75% dos dados caem.\n",
        "8. **Max**: O valor máximo em cada coluna.\n",
        "\n",
        "Para colunas não numéricas, o `describe` pode fornecer informações sobre:\n",
        "- **Contagem (`count`)**: O número total de valores não nulos.\n",
        "- **Número de valores únicos (`unique`)**: O número de valores únicos na coluna.\n",
        "- **Valor mais frequente (`top`)**: O valor que aparece com mais frequência.\n",
        "- **Contagem do valor mais frequente (`freq`)**: O número de vezes que o valor mais frequente aparece.\n",
        "\n",
        "Essas estatísticas ajudam a entender a distribuição e a variabilidade dos dados em seu DataFrame."
      ]
    },
    {
      "cell_type": "code",
      "execution_count": null,
      "metadata": {
        "colab": {
          "base_uri": "https://localhost:8080/",
          "height": 530
        },
        "id": "dPkZfxpC_G8l",
        "outputId": "cd57adb5-ccac-4aae-f6bc-4790b5b101cf"
      },
      "outputs": [],
      "source": [
        "bd.describe(include='all')"
      ]
    },
    {
      "cell_type": "markdown",
      "metadata": {
        "id": "GplFcbAOvI9M"
      },
      "source": [
        "A análise descritiva dos dados de sinistros de seguros, utilizando o método describe(), permite identificar padrões significativos nos dados\n",
        "\n",
        "1. **Análise de Distribuição de Custos de Sinistros**: A média do \"Valor Pago Sinistro\" é de 295,34, enquanto o desvio padrão é bastante alto (2996,82). Isso sugere uma grande variabilidade nos valores pagos, indicando a presença de sinistros com valores pagos muito baixos e alguns com valores excepcionalmente altos. A mediana (36,9) é bem menor que a média, o que sugere uma distribuição enviesada para a direita, indicando a presença de alguns valores extremamente altos (outliers).\n",
        "\n",
        "2. **Perfil Demográfico dos Sinistrados**: A coluna \"Sexo Sinistro\" indica que há apenas 2 categorias (\"M\" e \"F\"), e o mais frequente é o sexo feminino com 62.333 registros. A faixa etária mais frequente é \"0 a 18 anos\", com 18.762 registros."
      ]
    },
    {
      "cell_type": "markdown",
      "metadata": {
        "id": "aZqXnW_Y2J-0"
      },
      "source": [
        "### **Identificação das colunas numéricas e categóricas**"
      ]
    },
    {
      "cell_type": "markdown",
      "metadata": {
        "id": "Ce9vD-4e4X4y"
      },
      "source": [
        "A identificação de colunas numéricas e categóricas e a diferenciação entre elas se faz extremamente importante, especialmente em termos de análise, visualização e modelagem de dados, uma vez que requerem distintas abordagens durante o tratamento dessas informações.\n",
        "\n",
        "A distinção entre estas duas identificações de dados pode ser definida como abaixo:\n",
        "\n",
        "##### **Variáveis categóricas**\n",
        "\n",
        "Dados categóricos possuem uma quantidade limitada de categorias ou grupos distintos, como métodos de pagamento, materiais ou códigos de produtos.\n",
        "\n",
        "Dentro das variáveis categóricas, existem duas principais subdivisões: **variáveis nominais** e **variáveis ordinais**.\n",
        "\n",
        "Variáveis categóricas nominais são caracterizadas por não terem uma ordem ou hierarquia intrínseca. Exemplos incluem cor dos olhos, gênero, ID e nome.\n",
        "\n",
        "Por outro lado, variáveis categóricas ordinais são aquelas que têm uma ordem ou classificação. Exemplos incluem tamanhos de roupas (P, M, G) e classificações de risco (baixo, médio, alto). Essas variáveis permitem a comparação entre categorias com base em sua ordem."
      ]
    },
    {
      "cell_type": "markdown",
      "metadata": {
        "id": "hY1gbr743Liu"
      },
      "source": [
        "\n",
        "A partir desse resultado, nota-se que as colunas foram identificadas da seguinte maneira:\n",
        "\n",
        "**Identificação de variáveis categóricas na base da dados**<br>\n",
        "\n",
        "| NOME DA COLUNA  | DESCRIÇÃO | VARIÁVEL | SUBGRUPO |\n",
        "| ------------- | ------------- | ----------- | ------------ |\n",
        "| Nome Empresa Sinistro | Nome da empresa relacionada ao uso do sinistro | Categórica | Nominal |\n",
        "| Elegibilidade Sinistro | Indica qual é a relação do colaborador com o seguro de saúde | Categórica | Nominal |\n",
        "| Sexo Sinistro  | Indica qual é o gênero do segurado | Categórica | Nominal |\n",
        "| Faixa-Etária Nova Sinistro | Mostra a faixa etária do titular, dependente ou agregado. | Categórica | Ordinal |\n",
        "| Descricao Plano Sinistro | O tipo do plano de saúde do segurado | Categórica | Nominal |\n",
        "| Descricao Servico Sinistro | O tipo de serviço utilizado pelo segurado | Categórica | Nominal |\n",
        "| Tipo Utilização Sinistro | Política de pagamento do sinistro | Categórica | Nominal |\n",
        "| Dt Data Sinistro  | Data em que o serviço foi realizado | Categórica | Nominal |\n",
        "| Nome Prestador Sinistro | O nome do ambiente em que o serviço foi realizado | Categórica | Nominal |\n",
        "| Nome Grupo Empresa | Nome da empresa \"UNIPAR CARBOCLORO S.A\"| Categórica | Nominal |\n",
        "\n",
        "\n",
        "**Observações**:\n",
        "\n",
        "- **\"Nome Empresa Sinistro\"**: Esta coluna apresenta três tipos de dados: \"UNIPAR INDUPA DO BRASIL S.A\", \"UNIPAR CARBOCLORO S.A\" e uma inconsistência a ser tratada na etapa de pré-processamento, \"UNIPAR INDUPA DO BRASIL S.A.\" com um ponto adicional no final.\n",
        "\n",
        "- **\"Elegibilidade Sinistro\"**: Contém três valores distintos: TITULAR, DEPENDENTE e AGREGADO.\n",
        "\n",
        "- **\"Sexo Sinistro\"**: Apresenta dois valores: \"F\" para feminino e \"M\" para masculino.\n",
        "\n",
        "- **\"Faixa-Etária Nova Sinistro\"**: As faixas etárias estão descritas textualmente, como \"0 a 18 anos\" e \"19 a 23 anos\".\n",
        "\n",
        "- **\"Descricao Plano Sinistro\"**: Inclui identificadores como \"TP8X\", \"TQN2\" e \"NP6X\".\n",
        "\n",
        "- **\"Descricao Servico Sinistro\"**: Contém descrições de serviços como consulta, teste, exame e atendimento.\n",
        "\n",
        "- **\"Tipo Utilização Sinistro\"**: Apresenta \"REDE\" para serviços realizados em espaços credenciados e \"REEMBOLSO\" para serviços em locais não credenciados, mas reembolsáveis pelo convênio.\n",
        "\n",
        "- **\"Dt Data Sinistro\"**: Armazenada como texto, o que a classifica como categórica, apesar de representar uma data.\n",
        "\n",
        "- **\"Nome Prestador Sinistro\"**: Inclui nomes de consultórios, hospitais, laboratórios e outros prestadores de serviços.\n",
        "\n",
        "\n",
        "A baixa incidência de **variáveis categóricas ordinais** sugere que a modelagem preditiva no projeto UniData não se beneficiará de hierarquias de atributos para identificação de padrões, já que alguns modelos, como árvores de decisão, podem aproveitar essas hierarquias. Por outro lado, a presença de várias **variáveis categóricas nominais** indica alta dimensionalidade no _DataFrame_, o que exige técnicas de codificação, como _One Hot Encoding_ e _Label Encoding_. Isso pode aumentar significativamente a complexidade computacional e o uso de memória necessários para a análise dos dados.\n"
      ]
    },
    {
      "cell_type": "markdown",
      "metadata": {
        "id": "pOeGqDplbh8j"
      },
      "source": [
        "##### **Variáveis Numéricas**\n",
        "\n",
        "Variáveis numéricas envolvem dados que podem ser representados por valores numéricos.\n",
        "\n",
        "Dentro das variáveis numéricas, podemos distinguir duas principais subdivisões: variáveis contínuas e variáveis discretas.\n",
        "\n",
        "Variáveis numéricas contínuas são aquelas cujos valores são representados por números reais (_float_). Elas podem assumir um intervalo infinito de valores e são usadas para medir quantidades que podem ser fracionadas, como temperatura, altura, peso e salário.\n",
        "\n",
        "Variáveis numéricas discretas, por sua vez, têm valores que são inteiros e não podem ser fracionados. Elas geralmente representam contagens ou quantidades que são finitas e não possuem partes decimais. Exemplos incluem o número de filhos, o número de produtos vendidos e a quantidade de itens em estoque."
      ]
    },
    {
      "cell_type": "markdown",
      "metadata": {
        "id": "4slT-PI_bj4S"
      },
      "source": [
        "\n",
        "Sua diferença também pode ser percebida no pré-processamento de dados, onde geralmente os dados numéricos passam por processos de normalização ou padronização, enquanto dados categóricos são codificados ou até mesmo reorganizados e agrupados em outras categorias para serem utilizados nos modelos de machine learning."
      ]
    },
    {
      "cell_type": "markdown",
      "metadata": {
        "id": "UBxQD5op7TVH"
      },
      "source": [
        "Com o método \".dtypes\", é possível avaliar se os dados aquela coluna são \"int64\" ou \"object\" assim como foi citado anteriormente."
      ]
    },
    {
      "cell_type": "markdown",
      "metadata": {
        "id": "bWyRAZaAB0rE"
      },
      "source": [
        "**Identificação das variáveis numéricas na base de dados**\n",
        "\n",
        "| NOME DA COLUNA  | DESCRIÇÃO | VARIÁVEL | SUBGRUPO |\n",
        "| ------------- | ------------- | ----------- | ------------ |\n",
        "| Apolice Sinistro | Código numérico para associar a apólice ao contrato do seguro | Numérica | Discreta |\n",
        "| Codigo Empresa Sinistro | Código da empresa da qual o titular, dependente ou agregado é associado. Deve-se considerar diferenças entre sede, filiais e localidades | Numérica | Discreta |\n",
        "| SEGURADO  | Código que identifica quem utilizou o serviço, ou seja, o segurado | Numérica | Discreta |\n",
        "| Codigo Especialidade Sinistro | Código referente ao tema/especialidade envolvida no serviço utiizado pelo segurado | Numérica | Discreta |\n",
        "| Codigo Servico Sinistro | Código referente ao tipo de serviço, seja consulta, atendimento, exame, entre outros | Numérica | Discreta |\n",
        "| Codigo Prestador | Código associado ao prestador daquele serviço | Numérica | Discreta |\n",
        "| No Ano Mes | Representa o ano e o mês em que aquele serviço foi realizado | Numérica | Discreta |\n",
        "| Codigo Grupo Empresa  | Representa o grupo associado àquele sinistro | Numérica | Discreta |\n",
        "| Valor Pago Sinistro | O valor pago pelo serviço acionado | Numérica | Contínua |\n",
        "| Quantidade | Quantidade de serviços prestados àquele sinistro | Numérica | Discreta |\n",
        "\n",
        "É importante destacar que, na nossa base de dados, a maioria dos dados numéricos refere-se a códigos de identificação, com poucas exceções relacionadas à quantidade de serviços prestados, à data do serviço e ao valor pago no sinistro. Portanto, como a maioria das variáveis numéricas é **discreta**, o tratamento desses dados é facilitado, uma vez que não há necessidade de padronização de dados do tipo _float_.\n",
        "\n",
        "A identificação de grande quantidade de variáveis numéricas discretas também impacta a escolha do algoritmo de modelagem para o projeto UniData. Dados discretos, que se limitam a números inteiros, podem apresentar baixa granularidade, o que pode afetar a precisão das previsões do modelo ao identificar tendências."
      ]
    },
    {
      "cell_type": "code",
      "execution_count": null,
      "metadata": {
        "colab": {
          "base_uri": "https://localhost:8080/",
          "height": 742
        },
        "id": "hsClX-Kg3OUH",
        "outputId": "8174c77d-5584-479d-a950-ab5bf5910e95"
      },
      "outputs": [],
      "source": [
        "bd.dtypes"
      ]
    },
    {
      "cell_type": "markdown",
      "metadata": {
        "id": "w3-xEBLC2Rwe"
      },
      "source": [
        "### **Gráficos da exploração de dados**"
      ]
    },
    {
      "cell_type": "markdown",
      "metadata": {
        "id": "c7Ni-Sri3EXw"
      },
      "source": [
        "O processo de identificação de perfis de colaboradores e de padrões no uso dos serviços de saúde pode ser facilitado com o uso de diversos gráficos que melhorem a visualização dos dados, a fim de colaborar para análises mais completas da equipe responsável pela criação dos programas e/ou iniciativas citadas anteriormente.\n",
        "\n",
        "Segundo ValueHost, a visualização de dados é a prática de representar informações e dados complexos de maneira visual, usando gráficos, mapas e outros elementos. O objetivo é tornar os dados mais acessíveis, compreensíveis e utilizáveis, permitindo que as pessoas identifiquem padrões, tendências e insights que não seriam tão facilmente percebidos em um formato puramente numérico.\n",
        "\n",
        "A partir disso, observa-se os seguintes gráficos que foram criados a partir da relação entre algumas das variáveis disponíveis na base de dados para que insigths valiosos possam ser fornecidos."
      ]
    },
    {
      "cell_type": "markdown",
      "metadata": {
        "id": "QJipKcZ3AENP"
      },
      "source": [
        "**1. Número de titulares e dependentes**"
      ]
    },
    {
      "cell_type": "markdown",
      "metadata": {
        "id": "OVJB8rxYCA9b"
      },
      "source": [
        "Com o método ```.drop_duplicates() ``` é possível retirar as linhas duplicadas de um DataFrame. Utilizando sua função, foi possível filtrar o número de titulares e o número de dependentes para, a partir de gráficos, compreender o quanto cada uma dessas elegibilidades contribuiu para a base de dados."
      ]
    },
    {
      "cell_type": "code",
      "execution_count": null,
      "metadata": {
        "id": "tViXvBiNDDLG"
      },
      "outputs": [],
      "source": [
        "# Filtrando os segurados que são dependentes\n",
        "bd_dependentes = bd[bd['Elegibilidade Sinistro'] == 'DEPENDENTE'].drop_duplicates(subset='SEGURADO')\n",
        "\n",
        "# Filtrando os segurados que são titulares\n",
        "bd_titulares = bd[bd['Elegibilidade Sinistro'] == 'TITULAR'].drop_duplicates(subset='SEGURADO')"
      ]
    },
    {
      "cell_type": "code",
      "execution_count": null,
      "metadata": {
        "colab": {
          "base_uri": "https://localhost:8080/"
        },
        "id": "deCN69NcYLgn",
        "outputId": "e1792d06-55d3-4f43-d15e-cf97a5cbdd47"
      },
      "outputs": [],
      "source": [
        "print(len(bd_dependentes), 'dependentes')\n",
        "print(len(bd_titulares), 'titulares')"
      ]
    },
    {
      "cell_type": "markdown",
      "metadata": {
        "id": "gFOqaBEJDSyZ"
      },
      "source": [
        "A partir desse processo, nota-se que existem **`1638 dependentes e 1053 titulares na base de dados`**. Tal fato pode ser visualizado e compreendido a partir do seguinte gráfico de contagem:"
      ]
    },
    {
      "cell_type": "code",
      "execution_count": null,
      "metadata": {
        "colab": {
          "base_uri": "https://localhost:8080/",
          "height": 528
        },
        "id": "9QN_cJ2QDlos",
        "outputId": "43f817c8-7015-447e-a5b2-85bd378d2a18"
      },
      "outputs": [],
      "source": [
        "# Remover duplicatas de segurados (considerando a coluna que identifica o segurado, como 'SEGURADO')\n",
        "bd_unique_segurados = bd.drop_duplicates(subset='SEGURADO')\n",
        "\n",
        "# Contar a quantidade de titulares e dependentes\n",
        "elegibilidade_counts = bd_unique_segurados['Elegibilidade Sinistro'].value_counts()\n",
        "\n",
        "# Tamanho do gráfico\n",
        "plt.figure(figsize=(10, 6))\n",
        "\n",
        "# Gráfico de barras com a cor #008a26\n",
        "elegibilidade_counts.plot(kind='bar', color='#008a26')\n",
        "\n",
        "# Adicionar títulos e rótulos aos eixos\n",
        "plt.title('Quantidade de Titulares e Dependentes Únicos')\n",
        "plt.xlabel('Elegibilidade')\n",
        "plt.ylabel('Quantidade')\n",
        "\n",
        "# Mostrar o gráfico\n",
        "plt.tight_layout()\n",
        "plt.show()"
      ]
    },
    {
      "cell_type": "markdown",
      "metadata": {
        "id": "4RJWDmy1ELke"
      },
      "source": [
        "Considerando os números acima, compreende-se que o uso de sinistro também seja impactado pela participação significativa de dependentes na base dados, sendo conveniente analisar esse tópico e visualizar a grandeza de seu impacto:"
      ]
    },
    {
      "cell_type": "markdown",
      "metadata": {
        "id": "vSjfbpjcEfKT"
      },
      "source": [
        "1.1. **Uso de sinistro de acordo com Elegibilidade**"
      ]
    },
    {
      "cell_type": "code",
      "execution_count": null,
      "metadata": {
        "colab": {
          "base_uri": "https://localhost:8080/",
          "height": 557
        },
        "id": "9mtXaCePEb1C",
        "outputId": "b31fc093-42d9-4f66-f7be-9773b5241e9b"
      },
      "outputs": [],
      "source": [
        "# Configuração do tamanho do gráfico (opcional)\n",
        "plt.figure(figsize=(10, 6))\n",
        "\n",
        "# Gráfico de contagem com a cor #008a26\n",
        "sns.countplot(x='Elegibilidade Sinistro', data=bd, color='#008a26')\n",
        "\n",
        "# Configurando o título e os rótulos dos eixos\n",
        "plt.title('Uso do sinistro de acordo com elegibilidade')\n",
        "plt.xlabel('Elegibilidade')\n",
        "plt.ylabel('Contagem')\n",
        "\n",
        "# Exibindo o gráfico\n",
        "plt.show()"
      ]
    },
    {
      "cell_type": "markdown",
      "metadata": {
        "id": "gfIg_ZkaEs9L"
      },
      "source": [
        "Com os dois gráficos acima, é possível concluir que a participação de dependentes na base de dados é maior do que a de titulares, em número de segurados e de serviços utilizados, sendo assim, é necessário atentar-se ao pedido do parceiro em focar nos titulares - que são o público-alvo principal-, principalmente na produção de novos gráficos, na limpeza de gráficos e em análises posteriores."
      ]
    },
    {
      "cell_type": "markdown",
      "metadata": {
        "id": "Y_jmGv107C-F"
      },
      "source": [
        "**2. Sinistros de titulares por faixa-etária e gênero**\n",
        "\n"
      ]
    },
    {
      "cell_type": "markdown",
      "metadata": {
        "id": "9z4nNWCpF6pG"
      },
      "source": [
        "O gráfico abaixo foi criado com a intenção de observar qual é o engajamento dos titulares, em número de sinistros, separando-os por faixa-etária e gênero. Analisando os titulares, obtêm-se o seguinte gráfico:"
      ]
    },
    {
      "cell_type": "code",
      "execution_count": null,
      "metadata": {
        "colab": {
          "base_uri": "https://localhost:8080/",
          "height": 504
        },
        "id": "W7_6lt7SF523",
        "outputId": "cbe87ab3-c18d-4b8b-d86a-e664950795ec"
      },
      "outputs": [],
      "source": [
        "# Filtrando os dados para incluir apenas os titulares\n",
        "bd_titulares = bd[bd['Elegibilidade Sinistro'] == 'TITULAR']\n",
        "\n",
        "# Agrupar os dados por faixa etária e sexo para contar a quantidade de titulares\n",
        "faixa_etaria_sexo_counts = bd_titulares.groupby(['Faixa-Etária Nova Sinistro', 'Sexo Sinistro']).size().unstack(fill_value=0)\n",
        "\n",
        "# Ordenar as faixas etárias para facilitar a visualização\n",
        "faixa_etaria_sexo_counts = faixa_etaria_sexo_counts.sort_index()\n",
        "\n",
        "# Configurar o tamanho do gráfico\n",
        "plt.figure(figsize=(10, 6))\n",
        "\n",
        "# Gráfico de barras agrupadas com os dois tons de verde\n",
        "faixa_etaria_sexo_counts.plot(kind='bar', stacked=False, color=['#008a26', '#00ff3c'])\n",
        "\n",
        "# Adicionar títulos e rótulos aos eixos\n",
        "plt.title('Distribuição de Titulares por Faixa Etária e Sexo')\n",
        "plt.xlabel('Faixa Etária')\n",
        "plt.ylabel('Quantidade de Sinistros')\n",
        "\n",
        "# Ajustar a posição da legenda\n",
        "plt.legend(title='Sexo', bbox_to_anchor=(1.05, 1), loc='upper left')\n",
        "\n",
        "# Mostrar o gráfico\n",
        "plt.tight_layout()\n",
        "plt.show()\n",
        "\n",
        "# Configuração do Seaborn\n",
        "sns.set()"
      ]
    },
    {
      "cell_type": "markdown",
      "metadata": {
        "id": "BKGSxs4wJqMJ"
      },
      "source": [
        "Com base nas informações obtidas, é possível observar:\n",
        "\n",
        "1. **Participação por Gênero e Faixa Etária**: A participação masculina na quantidade de sinistros registrados pelos titulares é predominante em quase todas as faixas etárias, especialmente na faixa de \"44 a 48 anos\". As únicas exceções são as faixas etárias de \"19 a 23 anos\" e \"24 a 28 anos\", onde a participação feminina é mais expressiva.\n",
        "\n",
        "2. **Faixa Etária e Uso de Sinistros**: Titulares na faixa etária de \"59 anos ou mais\", independentemente do gênero, apresentaram um maior número de registros de sinistros.\n",
        "\n",
        "O gráfico a seguir, **um gráfico de dispersão entre faixa etária e quantidade de titulares**, ilustra a quantidade exata de titulares em cada faixa etária. Esse gráfico permite correlacionar a quantidade de titulares com a quantidade de sinistros registrados, ajudando a classificar o engajamento dos titulares nos serviços de saúde com base em suas idades."
      ]
    },
    {
      "cell_type": "code",
      "execution_count": null,
      "metadata": {
        "colab": {
          "base_uri": "https://localhost:8080/",
          "height": 308
        },
        "id": "rkeZc5NlPiRi",
        "outputId": "4449e0a9-7625-42b5-d133-611c0dbf104c"
      },
      "outputs": [],
      "source": [
        "# Filtrando apenas os segurados que são TITULARES e removendo duplicatas na coluna 'SEGURADO'\n",
        "bd_segurados_unicos_titulares = bd[bd['Elegibilidade Sinistro'] == 'TITULAR'].drop_duplicates(subset=['SEGURADO'])\n",
        "\n",
        "# Obter as contagens de cada faixa etária\n",
        "faixa_etaria_counts = bd_segurados_unicos_titulares['Faixa-Etária Nova Sinistro'].value_counts()\n",
        "\n",
        "# Ordenar os dados por ordem crescente da faixa etária\n",
        "faixa_etaria_counts = faixa_etaria_counts.sort_index(ascending=True)\n",
        "\n",
        "# Alterar o rótulo da última faixa etária\n",
        "faixas = faixa_etaria_counts.index.tolist()\n",
        "faixas[-1] = \"59 anos +\"  # Modificar o último rótulo\n",
        "\n",
        "# Criar a paleta de cores \"viridis\" e inverter a ordem\n",
        "cores = sns.color_palette(\"viridis\", len(faixas))[::-1]\n",
        "\n",
        "# Criar o gráfico de barras\n",
        "plt.figure(figsize=(14, 8))\n",
        "barplot = sns.barplot(x=faixas, y=faixa_etaria_counts.values, palette=cores)\n",
        "\n",
        "# Adicionar rótulos acima de cada barra com texto em negrito\n",
        "for p in barplot.patches:\n",
        "    barplot.annotate(format(int(p.get_height()), '.0f'),\n",
        "                     (p.get_x() + p.get_width() / 2., p.get_height()),\n",
        "                     ha='center', va='center', \n",
        "                     xytext=(0, 7),  # Posição do texto em relação à barra\n",
        "                     textcoords='offset points',\n",
        "                     fontsize=16, fontweight='bold')  # Tamanho e negrito nos rótulos\n",
        "\n",
        "# Adicionar títulos e rótulos com tamanho de fonte maior e negrito\n",
        "plt.title('Distribuição de Titulares por Faixa Etária', fontsize=24, fontweight='bold', pad=15) \n",
        "plt.xlabel('Faixa Etária', fontsize=18, labelpad=15) \n",
        "plt.ylabel('Quantidade de Titulares Únicos', fontsize=18, labelpad=15) \n",
        "\n",
        "# Ajustar a formatação dos rótulos dos ticks\n",
        "barplot.tick_params(axis='x', labelsize=14, labelrotation=0, width=2)\n",
        "barplot.tick_params(axis='y', labelsize=14, width=2)\n",
        "\n",
        "# Exibir o gráfico\n",
        "plt.tight_layout()\n",
        "plt.show()"
      ]
    },
    {
      "cell_type": "markdown",
      "metadata": {
        "id": "89m6nS8IP-VW"
      },
      "source": [
        "Observa-se que a faixa etária com o maior número de titulares é a de \"34 a 38 anos\", seguida pela faixa etária de \"39 a 43 anos\". Ao relacionar esses dados com o gráfico de **sinistros de titulares por faixa-etária e gênero**, destacam-se as seguintes observações:\n",
        "\n",
        "1. As faixas etárias com o maior número de titulares (\"59 anos ou mais\", \"34 a 38 anos\" e \"39 a 43 anos\") também são as que apresentam o maior número de sinistros registrados. Isso segue a lógica esperada: quanto maior o número de titulares, maior a utilização dos serviços.\n",
        "\n",
        "2. A baixa quantidade de titulares na faixa \"0 a 18 anos\" reflete não apenas os pré-requisitos para ser titular, mas também o fato de que essa faixa etária é predominantemente composta por **dependentes**. Isso é corroborado pelo gráfico a seguir."
      ]
    },
    {
      "cell_type": "code",
      "execution_count": null,
      "metadata": {
        "colab": {
          "base_uri": "https://localhost:8080/",
          "height": 498
        },
        "id": "2tK8sXc3zx1Q",
        "outputId": "1c5187e7-c871-411b-a617-9a6ab585da8c"
      },
      "outputs": [],
      "source": [
        "# Filtrando os dados para incluir apenas os dependentes\n",
        "bd_dependentes = bd[bd['Elegibilidade Sinistro'] == 'DEPENDENTE']\n",
        "\n",
        "# Agrupar os dados por faixa etária e sexo para contar a quantidade de titulares\n",
        "faixa_etaria_sexo_counts = bd_dependentes.groupby(['Faixa-Etária Nova Sinistro', 'Sexo Sinistro']).size().unstack(fill_value=0)\n",
        "\n",
        "# Ordenar as faixas etárias para facilitar a visualização\n",
        "faixa_etaria_sexo_counts = faixa_etaria_sexo_counts.sort_index()\n",
        "\n",
        "# Configurar o tamanho do gráfico\n",
        "plt.figure(figsize=(10, 6))\n",
        "\n",
        "# Criar o gráfico de barras agrupadas com as cores verde #008a26 e #00ff3c\n",
        "faixa_etaria_sexo_counts.plot(kind='bar', stacked=False, color=['#008a26', '#00ff3c'])\n",
        "\n",
        "# Adicionar títulos e rótulos aos eixos\n",
        "plt.title('Distribuição de Dependentes por Faixa Etária e Sexo')\n",
        "plt.xlabel('Faixa Etária')\n",
        "plt.ylabel('Quantidade de Sinistros')\n",
        "\n",
        "# Ajustar a posição da legenda\n",
        "plt.legend(title='Sexo', bbox_to_anchor=(1.05, 1), loc='upper left')\n",
        "\n",
        "# Mostrar o gráfico\n",
        "plt.tight_layout()\n",
        "plt.show()\n",
        "\n",
        "# Configuração do Seaborn\n",
        "sns.set()"
      ]
    },
    {
      "cell_type": "markdown",
      "metadata": {
        "id": "hX5B8UPT0CcS"
      },
      "source": [
        "Entre os dependentes, além de a faixa-etária mais frequente ser de \"0 a 18 anos\", logo acompanhado pela \"49 a 53 anos\", percebe-se que a participação do gênero feminino é mais significativa e impactante do que entre os titulares.\n",
        "\n",
        "Dessa forma, nota-se que existe uma tendência de criação e desenvolvimento de perfil entre titular e dependente que usam seus sinistros com frequência, por exemplo:\n",
        "\n",
        "1. Titular: de 34 a 38 anos, homem;\n",
        "\n",
        "2. Dependente: 0 a 18 anos, mulher.\n",
        "\n",
        "Sendo assim, entende-se que, de acordo com as variáveis trabalhadas acima, como elegibilidade de sinistro, faixa-etária e gênero, os públicos mudam consideravelmente suas características e, por consequência, os seus perfis de uso de sinistralidade também."
      ]
    },
    {
      "cell_type": "markdown",
      "metadata": {
        "id": "yRxUoRSH6MNh"
      },
      "source": [
        "3. **Comparação do Uso dos 10 Serviços Mais Utilizados por Gênero**"
      ]
    },
    {
      "cell_type": "markdown",
      "metadata": {
        "id": "gks9pu5K7HAt"
      },
      "source": [
        "Além de compreender sobre o perfil dos colaboradores em questões de gêneros, uso do sinistro e faixa-etária, também é essencial levar em consideração quais são os tipos de serviço mais utilizados pelos colaboradores para que os insights sejam direcionados para áreas relevantes ou de defasagem."
      ]
    },
    {
      "cell_type": "markdown",
      "metadata": {
        "id": "IYU_gN-s8Att"
      },
      "source": [
        "Para analisar os tipos de serviço e filtrar de uma forma simples, têm-se o gráfico de quais são os dez serviços mais utilizados dividindo os seus usos pelos respectivos gêneros que fizeram o uso."
      ]
    },
    {
      "cell_type": "code",
      "execution_count": null,
      "metadata": {
        "colab": {
          "base_uri": "https://localhost:8080/",
          "height": 443
        },
        "id": "MO7Po0v68Mxp",
        "outputId": "37703a87-226f-420f-ccbc-b5e88a260206"
      },
      "outputs": [],
      "source": [
        "# Agrupando os dados para encontrar os 10 serviços mais utilizados\n",
        "top_10_services = bd['Descricao Servico Sinistro'].value_counts().nlargest(10).index\n",
        "\n",
        "# Filtrando o DataFrame para apenas esses 10 serviços\n",
        "bd_top_10 = bd[bd['Descricao Servico Sinistro'].isin(top_10_services)]\n",
        "\n",
        "# Agrupando os dados por serviço e sexo para contar o número de utilizações\n",
        "bd_grouped = bd_top_10.groupby(['Descricao Servico Sinistro', 'Sexo Sinistro']).size().unstack(fill_value=0)\n",
        "\n",
        "# Configuração do tamanho do gráfico\n",
        "plt.figure(figsize=(12, 8))\n",
        "\n",
        "# Criando o gráfico de barras empilhadas ou agrupadas\n",
        "bd_grouped.plot(kind='barh', stacked=True, color=['#66b3ff', '#ff9999'])\n",
        "\n",
        "# Adicionando título e rótulos aos eixos\n",
        "plt.title('Top 10 Serviços Mais Utilizados por Gênero')\n",
        "plt.xlabel('Número de Utilizações')\n",
        "plt.ylabel('Serviço')\n",
        "\n",
        "# Ajustando a posição da legenda\n",
        "plt.legend(title='Gênero', bbox_to_anchor=(1.05, 1), loc='upper left')\n",
        "\n",
        "# Mostrando o gráfico\n",
        "plt.tight_layout()\n",
        "plt.show()"
      ]
    },
    {
      "cell_type": "markdown",
      "metadata": {
        "id": "lyV-FEUr8fBs"
      },
      "source": [
        "Por meio da análise do gráfico acima, é notável que os **serviços mais utilizados são consultas, hemogramas e sessão de psicoterapia.**\n",
        "\n",
        "No geral, o uso do sinistro de todos os tipos dos serviços mais frequentes são bem divididos entre o gênero feminino e masculino, com exceção da linha de consulta/consultorio, que conta com maior uso feminino.\n",
        "\n"
      ]
    },
    {
      "cell_type": "markdown",
      "metadata": {
        "id": "NnBBKGr8EfXq"
      },
      "source": [
        "# **Pré-processamento**"
      ]
    },
    {
      "cell_type": "markdown",
      "metadata": {
        "id": "MxZRj7M-E3YW"
      },
      "source": [
        "O pré-processamento de dados é uma etapa muito importante no desenvolvimento de modelos de machine learning. Ele envolve a preparação dos dados brutos, tornando-os mais adequados para a análise. Dados que não foram processados podem conter inconsistências, valores faltantes, outliers, que são valores muito maiores ou menores do que a maior parte da amostra, e podem estar em formatos inadequados para as técnicas de machine learning. A fase de pré-processamento aborda essas questões para melhorar a qualidade dos dados e, consequentemente, a performance do modelo.\n",
        "\n",
        "Essa etapa inclui a limpeza de dados, onde se tratam inconsistências, valores ausentes (missing values), e outliers. Inconsistências são corrigidas para uniformizar os dados; valores ausentes são preenchidos ou removidos; e outliers, que podem distorcer a análise, são identificados e tratados. Após a limpeza, realiza-se a codificação das variáveis, convertendo categorias em números e normalizando variáveis numéricas para uma escala comum, facilitando a análise pelos algoritmos de machine learning."
      ]
    },
    {
      "cell_type": "markdown",
      "metadata": {
        "id": "wc8GL3dcF5Yn"
      },
      "source": [
        "## **Limpeza de dados**"
      ]
    },
    {
      "cell_type": "markdown",
      "metadata": {
        "id": "_7yqK2BEqhue"
      },
      "source": [
        "Começando a limpeza de dados, usa-se o método `info()`, da biblioteca pandas, que é muito útil para obter um resumo das informações de um DataFrame.\n",
        "\n",
        "Utilizar o método `info()` é uma boa prática ao começar a limpeza de dados, pois ajuda a identificar problemas como valores ausentes e tipos de dados incorretos."
      ]
    },
    {
      "cell_type": "code",
      "execution_count": null,
      "metadata": {
        "colab": {
          "base_uri": "https://localhost:8080/"
        },
        "id": "dpVIZhwzqhug",
        "outputId": "7500585a-2cd8-4a2f-d5eb-a1058708c4dd"
      },
      "outputs": [],
      "source": [
        "bd.info()"
      ]
    },
    {
      "cell_type": "markdown",
      "metadata": {
        "id": "iLkj6R9fqhuh"
      },
      "source": [
        "O método info() revelou que o DataFrame contém 100.820 entradas e 21 colunas, todas com dados não nulos, indicando ausência de valores faltantes. As colunas estão distribuídas entre tipos de dados int64 (10 colunas), object (10 colunas) e float64 (1 coluna), com uma utilização de memória de aproximadamente 16.2 MB.\n",
        "\n",
        "A ausência de dados faltantes no DataFrame é um fator positivo significativo para o processo de limpeza de dados, uma vez que elimina a necessidade de realizar etapas de tratamento de valores ausentes, como imputação ou remoção de linhas e colunas.\n",
        "\n",
        "Com a ausência de dados faltantes, o próximo passo é remover os dados duplicados do banco de dados, para isso utiliza-se o método `drop_duplicates()`, usando o argumento keep='first' para manter a primeira aparição do dado. Dessa forma, evita-se a distorção dos resultados, assegurando que cada observação contribua apenas uma vez na análise, o que melhora a precisão dos modelos de machine learning e reduz o tempo de processamento, mantendo a integridade do dataset. Porém, anteriormente à utilização desse comando, vamos visualizar a quantidade de linhas duplicadas no banco de dados, para isso utilizaremos o comando ``.duplicated().sum``:"
      ]
    },
    {
      "cell_type": "code",
      "execution_count": null,
      "metadata": {
        "colab": {
          "base_uri": "https://localhost:8080/"
        },
        "id": "lFWedEtgch2j",
        "outputId": "742d2336-2f50-4006-d523-952172f43dc6"
      },
      "outputs": [],
      "source": [
        "print(bd.duplicated().sum(), 'linhas duplicadas')"
      ]
    },
    {
      "cell_type": "markdown",
      "metadata": {
        "id": "_LhX8Jfdc7r4"
      },
      "source": [
        "Com isso, descobre-se que 342 linhas do banco de dados estão duplicadas e devem ser removidas:"
      ]
    },
    {
      "cell_type": "code",
      "execution_count": null,
      "metadata": {
        "colab": {
          "base_uri": "https://localhost:8080/"
        },
        "id": "SPCH7xsUqhuh",
        "outputId": "133a4733-1adb-45dc-9903-1a5fdcf860dc"
      },
      "outputs": [],
      "source": [
        "duplicados = bd[bd.duplicated(keep='first')]\n",
        "bd.drop_duplicates(keep='first', inplace=True)\n",
        "bd.duplicated().sum()"
      ]
    },
    {
      "cell_type": "markdown",
      "metadata": {
        "id": "L_3XJO-ljjZc"
      },
      "source": [
        "Dessa forma, evita-se a distorção dos resultados, assegurando que cada observação contribua apenas uma vez na análise, o que melhora a precisão dos modelos de machine learning e reduz o tempo de processamento, mantendo a integridade do dataset."
      ]
    },
    {
      "cell_type": "markdown",
      "metadata": {
        "id": "-gUZg0lXqhuh"
      },
      "source": [
        "### Padronização da codificação"
      ]
    },
    {
      "cell_type": "markdown",
      "metadata": {
        "id": "oW8U_5bpqhui"
      },
      "source": [
        "\n",
        "Tendo sido removido os dados duplicados, agora deve-se empregar o método `.nunique()`, que contabiliza o número de valores distintos em cada coluna do DataFrame. Este procedimento é importatnte para avaliar a diversidade dos dados e identificar possíveis redundâncias ou valores atípicos, o que contribui para uma limpeza mais eficaz e uma análise subsequente mais precisa."
      ]
    },
    {
      "cell_type": "code",
      "execution_count": null,
      "metadata": {
        "colab": {
          "base_uri": "https://localhost:8080/",
          "height": 742
        },
        "id": "g8jBoNqjqhui",
        "outputId": "2625d15d-9cc3-4cd5-9b1b-16879496505b"
      },
      "outputs": [],
      "source": [
        "bd.nunique()"
      ]
    },
    {
      "cell_type": "markdown",
      "metadata": {
        "id": "PJxHfuiXqhui"
      },
      "source": [
        "Ao aplicar esse método ao banco de dados, foram identificadas algumas discrepâncias que necessitam de atenção:\n",
        "\n",
        "- **Descrições vs. Códigos**: Observou-se que há 1.242 descrições distintas, mas 1.265 códigos diferentes. Isso sugere que alguns códigos podem estar associados a descrições duplicadas ou que existem códigos sem uma descrição correspondente.\n",
        "\n",
        "- **Nomes de Prestadores vs. Códigos de Identificação**: O banco de dados apresenta 1.356 nomes de prestadores únicos e 1.642 códigos de identificação distintos. Essa discrepância pode indicar que alguns prestadores estão vinculados a mais de um código ou que há códigos que não têm um prestador correspondente.\n",
        "\n",
        "- **Nomes de Empresas vs. Códigos Identificadores**: Encontram-se apenas 3 nomes de empresas únicos, mas 6 códigos identificadores diferentes. Isso pode indicar a existência de múltiplos códigos para uma única empresa ou a presença de códigos identificadores sem uma empresa associada."
      ]
    },
    {
      "cell_type": "markdown",
      "metadata": {
        "id": "v3_aHkRxqhuj"
      },
      "source": [
        "Para corrigir inconsistências entre descrições e códigos no banco de dados e garantir que cada descrição tenha apenas um código associado, utiliza-se a função `replace_codes`.\n",
        "\n",
        "1. **Contagem de Códigos Únicos por Descrição:**\n",
        "   Primeiro, a função agrupa os dados pela coluna que contém as descrições. Para cada grupo de descrições, ela conta quantos códigos únicos estão associados. Essa contagem ajuda a identificar se há descrições que têm múltiplos códigos diferentes associados a elas.\n",
        "\n",
        "2. **Identificação de Descrições com Múltiplos Códigos:**\n",
        "   A função então filtra e exibe as descrições que estão associadas a mais de um código. Essa etapa é importante para destacar quais descrições estão com problemas de consistência, mostrando aquelas que precisam ser revisadas e corrigidas.\n",
        "\n",
        "3. **Determinação do Código Mais Frequente:**\n",
        "   Para cada descrição, a função calcula qual código aparece com mais frequência. Ela faz isso agrupando novamente os dados pela descrição e, para cada grupo, identifica o código que mais aparece. Isso é feito através de uma contagem de frequência e seleção do código mais comum.\n",
        "\n",
        "4. **Atualização dos Códigos no Banco de Dados:**\n",
        "   Finalmente, a função substitui todos os códigos na coluna original pelo código mais frequente correspondente a cada descrição. Isso garante que todas as entradas com uma mesma descrição tenham o mesmo código, resolvendo as inconsistências identificadas e padronizando os dados.\n"
      ]
    },
    {
      "cell_type": "code",
      "execution_count": null,
      "metadata": {
        "id": "8SbOttOgqhuj"
      },
      "outputs": [],
      "source": [
        "def replace_codes(bd, descricao_column, codigo_column):\n",
        "  repeticoes_descricoes = bd.groupby(descricao_column)[codigo_column].nunique()\n",
        "  descricoes_com_multiplos_codigos = repeticoes_descricoes[repeticoes_descricoes > 1]\n",
        "  print(descricoes_com_multiplos_codigos)\n",
        "\n",
        "  codigo_mais_frequente = (\n",
        "    bd.groupby(descricao_column)[codigo_column]\n",
        "    .agg(lambda x: x.value_counts().idxmax())\n",
        "  )\n",
        "  bd[codigo_column] = bd[descricao_column].map(codigo_mais_frequente)\n",
        "\n"
      ]
    },
    {
      "cell_type": "markdown",
      "metadata": {
        "id": "sG4LhwItqhuj"
      },
      "source": [
        "Com a função `replace_codes` criada, o próximo passo é utilizá-la para corrigir todas as discrepâncias no banco de dados, começando pela inconsistência entre a descrição do serviço e seu código associado. Após a aplicação da função, vamos verificar novamente as inconsistências utilizando o método `nunique()` para garantir que todas as correções foram efetivas."
      ]
    },
    {
      "cell_type": "code",
      "execution_count": null,
      "metadata": {
        "colab": {
          "base_uri": "https://localhost:8080/",
          "height": 285
        },
        "id": "2xc2aoS1qhuj",
        "outputId": "a83f654e-c69e-44d3-a82c-1c1c9d065e44"
      },
      "outputs": [],
      "source": [
        "replace_codes(bd, 'Descricao Servico Sinistro', 'Codigo Servico Sinistro')\n",
        "bd[['Codigo Servico Sinistro','Descricao Servico Sinistro']].nunique()"
      ]
    },
    {
      "cell_type": "markdown",
      "metadata": {
        "id": "cY2SFfIFqhuj"
      },
      "source": [
        "As divergências entre as colunas 'Descrição Serviço Sinistro' e 'Código Servico Sinistro' foram corrigidas."
      ]
    },
    {
      "cell_type": "code",
      "execution_count": null,
      "metadata": {
        "colab": {
          "base_uri": "https://localhost:8080/",
          "height": 199
        },
        "id": "YMwxUH1tqhuj",
        "outputId": "3251c39d-b3d6-4870-f37a-1bdb3c2d7925"
      },
      "outputs": [],
      "source": [
        "replace_codes(bd, 'Nome Empresa Sinistro', 'Codigo Empresa Sinistro')\n",
        "bd[['Nome Empresa Sinistro','Codigo Empresa Sinistro']].nunique()"
      ]
    },
    {
      "cell_type": "markdown",
      "metadata": {
        "id": "py1NO9qWqhuk"
      },
      "source": [
        "As divergências entre as colunas 'Nome Empresa Sinistro' e 'Código Empresa Sinistro' foram corrigidas."
      ]
    },
    {
      "cell_type": "code",
      "execution_count": null,
      "metadata": {
        "colab": {
          "base_uri": "https://localhost:8080/",
          "height": 372
        },
        "id": "KJHzQ5vBqhuk",
        "outputId": "ac659df2-d769-422c-80a7-4e026c8f2b9e"
      },
      "outputs": [],
      "source": [
        "replace_codes(bd, 'Nome Prestador Sinistro', 'Codigo Prestador')\n",
        "bd[['Nome Prestador Sinistro','Codigo Prestador']].nunique()"
      ]
    },
    {
      "cell_type": "markdown",
      "metadata": {
        "id": "fK27XhXAqhuk"
      },
      "source": [
        "Após a aplicação da função replace_codes nas colunas 'Nome Prestador Sinistro' e 'Codigo Prestador', observou-se um comportamento inesperado. Inicialmente, havia mais códigos do que nomes, mas após a correção, o número de códigos agora é menor do que o número de nomes. Isso sugere que, após a aplicação da função, há códigos associados a mais de um nome, em vez de nomes associados a mais de um código.\n",
        "\n",
        "Para corrigir essa discrepância, aplicaremos a função novamente, desta vez invertendo as colunas:"
      ]
    },
    {
      "cell_type": "code",
      "execution_count": null,
      "metadata": {
        "colab": {
          "base_uri": "https://localhost:8080/",
          "height": 303
        },
        "id": "3kj4s1LUqhuk",
        "outputId": "28a92382-dc2b-4e8b-b2b1-561006a11aec"
      },
      "outputs": [],
      "source": [
        "replace_codes(bd, 'Codigo Prestador', 'Nome Prestador Sinistro')\n",
        "bd[['Codigo Prestador','Nome Prestador Sinistro']].nunique()"
      ]
    },
    {
      "cell_type": "markdown",
      "metadata": {
        "id": "23sG_7Ayqhuk"
      },
      "source": [
        "Feito isso, todas inconformidades foram corrigidas."
      ]
    },
    {
      "cell_type": "markdown",
      "metadata": {
        "id": "7otXak2dQzsT"
      },
      "source": [
        "### Correções de incongruências encontradas na Exploração"
      ]
    },
    {
      "cell_type": "markdown",
      "metadata": {
        "id": "LXlfsUjbqhuk"
      },
      "source": [
        "Durante a exploração de dados, o uso do método `.nunique()` permitiu a revisão de gráficos e a identificação de inconsistências que foram efetivamente corrigidas. No entanto, essa análise também revelou a presença de colunas que contêm apenas um valor em todas as suas linhas. Essas colunas não são úteis para um modelo preditivo, pois não fornecem variação ou informações adicionais. Portanto, é importante removê-las para otimizar a análise e melhorar o desempenho do modelo.\n",
        "\n",
        "Para remover essas colunas irrelevantes, utiliza-se o método `drop()` do Pandas, que permite excluir colunas específicas de um _DataFrame_, limpando-o de dados redundantes e focando apenas nas informações relevantes para a análise."
      ]
    },
    {
      "cell_type": "code",
      "execution_count": null,
      "metadata": {
        "id": "lxD2WeEvqhuk"
      },
      "outputs": [],
      "source": [
        "colunas_com_valor_unico = ['Apolice Sinistro', 'Valor Usuario Sinistro','Codigo Grupo Empresa', 'Nome Grupo Empresa']\n",
        "bd.drop(columns=colunas_com_valor_unico, inplace=True)\n"
      ]
    },
    {
      "cell_type": "markdown",
      "metadata": {
        "id": "PaUj5M_3qhuk"
      },
      "source": [
        "Além da existência dessas colunas de valores únicos, surgem alguns questionamentos a partir do método `nunique()`. Sabe-se que apenas duas unidades da Unipar estão sendo levadas em conta neste gráfico; entretanto, na coluna \"Nome Empresa Sinistro\", constam três nomes e códigos diferentes. Devido a essa incoerência, deve-se realizar uma investigação utilizando o método `unique()`, que mostra todos os valores únicos de uma determinada coluna do banco de dados."
      ]
    },
    {
      "cell_type": "code",
      "execution_count": null,
      "metadata": {
        "colab": {
          "base_uri": "https://localhost:8080/"
        },
        "id": "PUQrXQO4qhuk",
        "outputId": "edb1e04f-acb0-48eb-d41c-d16303bae76b"
      },
      "outputs": [],
      "source": [
        "bd['Nome Empresa Sinistro'].unique()"
      ]
    },
    {
      "cell_type": "code",
      "execution_count": null,
      "metadata": {
        "colab": {
          "base_uri": "https://localhost:8080/"
        },
        "id": "zYd_xPbYqhul",
        "outputId": "ab45698a-9daf-4418-9813-645790cdeeb8"
      },
      "outputs": [],
      "source": [
        "bd['Codigo Empresa Sinistro'].unique()"
      ]
    },
    {
      "cell_type": "markdown",
      "metadata": {
        "id": "BDKsR6l2qhul"
      },
      "source": [
        "Além disso, durante que um erro de digitação resultou na separação de dois valores que deveriam ser iguais. Portanto, há a necessidade de padronizar e unificar os dados correspondentes."
      ]
    },
    {
      "cell_type": "code",
      "execution_count": null,
      "metadata": {
        "colab": {
          "base_uri": "https://localhost:8080/",
          "height": 146
        },
        "id": "GLUHGTBpqhul",
        "outputId": "04003222-2c0e-439c-8d2a-1bd5e4d18a0f"
      },
      "outputs": [],
      "source": [
        "bd['Nome Empresa Sinistro'] = bd['Nome Empresa Sinistro'].replace('UNIPAR INDUPA DO BRASIL S.A.', 'UNIPAR INDUPA DO BRASIL S.A')\n",
        "\n",
        "bd[['Nome Empresa Sinistro','Codigo Empresa Sinistro']].nunique()"
      ]
    },
    {
      "cell_type": "markdown",
      "metadata": {
        "id": "dQ_T7ZU_qhul"
      },
      "source": [
        "Para além dessa correção, nota-se que na coluna 'Elegibilidade Sinistro', aparecem três valores únicos. Porém, visualmente, ao olhar o banco de dados, vê-se apenas duas elegibilidades: Titulares e dependentes. Assim, cabe investigar qual será o terceiro valor da coluna:"
      ]
    },
    {
      "cell_type": "code",
      "execution_count": null,
      "metadata": {
        "colab": {
          "base_uri": "https://localhost:8080/"
        },
        "id": "-br2-oiPqhul",
        "outputId": "bc69bc0d-1fb4-4af9-8750-93fce293531f"
      },
      "outputs": [],
      "source": [
        "bd['Elegibilidade Sinistro'].unique()"
      ]
    },
    {
      "cell_type": "markdown",
      "metadata": {
        "id": "u2NFi_ZUqhul"
      },
      "source": [
        "Nota-se que há um terceiro valor: \"agregado\". Agora, é necessário analisar a presença desse valor no banco de dados para entender sua proporção em relação às outras categorias. Para isso, utiliza-se o método value_counts(), que conta a frequência de cada valor na coluna."
      ]
    },
    {
      "cell_type": "code",
      "execution_count": null,
      "metadata": {
        "colab": {
          "base_uri": "https://localhost:8080/",
          "height": 209
        },
        "id": "ftQZ9iDGqhul",
        "outputId": "a15f5335-662c-41d0-83ec-3256f7e7057f"
      },
      "outputs": [],
      "source": [
        "bd['Elegibilidade Sinistro'].value_counts()"
      ]
    },
    {
      "cell_type": "markdown",
      "metadata": {
        "id": "8W3u8sPpqhul"
      },
      "source": [
        "A utilização desse método revela que a quantidade de sinistros classificados como \"Agregado\" é mínima, totalizando 83 linhas em um banco de dados com mais de 100.000 registros. Com essa informação, procede-se ao tratamento desse dado, substituindo-o pelo valor mais frequente, que é \"Dependente\"."
      ]
    },
    {
      "cell_type": "code",
      "execution_count": null,
      "metadata": {
        "colab": {
          "base_uri": "https://localhost:8080/"
        },
        "id": "q1bVx4uHqhul",
        "outputId": "7aff2419-5aea-4675-b1cd-764c7f0d5e9f"
      },
      "outputs": [],
      "source": [
        "bd['Elegibilidade Sinistro'] = bd['Elegibilidade Sinistro'].replace('AGREGADO', 'DEPENDENTE')\n",
        "bd['Elegibilidade Sinistro'].unique()\n"
      ]
    },
    {
      "cell_type": "markdown",
      "metadata": {
        "id": "SMKDQNU7qhum"
      },
      "source": [
        "Essa análise aprimora a compreensão da natureza do sinistro, identificando se ele pertence ao titular ou a uma pessoa associada, que no caso está agrupada como dependente."
      ]
    },
    {
      "cell_type": "markdown",
      "metadata": {
        "id": "o7UZ9kfSrcqi"
      },
      "source": [
        "### Tratamento de Outliers\n",
        "\n",
        "O tratamento de outliers envolve identificar e lidar com valores que se desviam significativamente dos demais dados no dataset. Esses valores atípicos podem surgir por erros de medição ou variabilidade natural e, se não tratados, podem distorcer análises e modelos preditivos, como regressões e algoritmos sensíveis a distâncias.\n",
        "\n",
        "Primeiro, será utilizado o boxplot, que é um gráfico onde são exibidas as distribuições de uma variável numérica, ajudando a estudar a simetria dos dados, facilitando a identificação de outliers, para visualizar a distribuição da variável \"Valor Pago Sinistro\" e identificar possíveis outliers no dataset. Essa ferramenta estatística resume a distribuição dos dados, destaca a mediana, os quartis e os valores extremos. Essa visualização facilita a detecção de outliers que se encontram fora dos limites interquartis, permitindo uma melhor compreensão da dispersão dos valores e a identificação de pontos que podem requerer tratamento adicional para evitar distorções nas análises subsequentes.\n",
        "\n"
      ]
    },
    {
      "cell_type": "code",
      "execution_count": null,
      "metadata": {
        "colab": {
          "base_uri": "https://localhost:8080/",
          "height": 496
        },
        "id": "1FPIRCo2qhum",
        "outputId": "b99adb9d-e595-432f-8e71-7d5139d6da68"
      },
      "outputs": [],
      "source": [
        "plt.figure(figsize=(10,5))\n",
        "plt.boxplot(bd['Valor Pago Sinistro'], vert=False)\n",
        "plt.title('Gráfico Boxplot - Identificando Outliers')\n",
        "plt.xlabel('Valor Pago Sinistro')\n",
        "plt.show()"
      ]
    },
    {
      "cell_type": "markdown",
      "metadata": {
        "id": "KsqfOs-Xqhum"
      },
      "source": [
        "Com base na visualização do gráfico, percebe-se que alguns valores se distanciam significativamente do padrão da maioria dos dados, sendo esses classificados como outliers. Para melhorar a qualidade da análise e obter uma distribuição mais representativa, é recomendável tratar esses valores atípicos.\n",
        "\n",
        "Neste código, a técnica de winsorização será aplicada na coluna `Valor Pago Sinistro` do DataFrame `bd` para tratar esses outliers. A winsorização é uma técnica que substitui os valores extremos de um conjunto de dados por valores mais próximos dos limites definidos, reduzindo assim o impacto dos outliers. A partir da identificação desses outliers, são definidos os limites inferior e superior com base nos percentis 0.01% e 99.99%, utilizando o método `quantile`.\n",
        "\n",
        "Em seguida, a função `clip` ajusta os valores da coluna para que fiquem dentro desses limites. Assim, valores abaixo do percentil inferior são elevados para o valor do percentil 0.01%, enquanto valores acima do percentil superior são reduzidos ao valor do percentil 99.99%. Esse processo visa minimizar o impacto dos outliers, tornando a análise dos dados mais robusta e confiável."
      ]
    },
    {
      "cell_type": "code",
      "execution_count": null,
      "metadata": {
        "id": "kfYOIGW_qhum"
      },
      "outputs": [],
      "source": [
        "lower_quantile = bd['Valor Pago Sinistro'].quantile(0.0001)\n",
        "upper_quantile = bd['Valor Pago Sinistro'].quantile(0.9999)\n",
        "\n",
        "bd['Valor Pago Sinistro'] = bd['Valor Pago Sinistro'].clip(lower=lower_quantile, upper=upper_quantile)\n"
      ]
    },
    {
      "cell_type": "markdown",
      "metadata": {
        "id": "9kSuueuEx4Q-"
      },
      "source": [
        "Ao fazer isso, o range de valores é reduzido, permitindo que o padrão dos dados seja mantido e fornecendo uma visão mais precisa e coerente do comportamento típico dos sinistros.\n",
        "\n",
        "Essa abordagem facilita a identificação de tendências e padrões mais consistentes nos dados, eliminando o impacto desproporcional dos outliers."
      ]
    },
    {
      "cell_type": "markdown",
      "metadata": {
        "id": "NhtUOWZ-gUVM"
      },
      "source": [
        "**Coluna Categoria**\n",
        "\n",
        "Outra coluna numérica ordinal na base de dados é a 'Quantidade', que também apresenta outliers, assim como a coluna 'Valor Pago Sinistro'. Contudo, ainda é necessário entender melhor o significado dessa coluna e seu impacto potencial no modelo. Portanto, decidiu-se mantê-la inalterada por enquanto, a fim de aprofundar a compreensão sobre a natureza desses dados."
      ]
    },
    {
      "cell_type": "markdown",
      "metadata": {
        "id": "9bzhXiQtqhuq"
      },
      "source": [
        "### Categorização dos Sinistros"
      ]
    },
    {
      "cell_type": "markdown",
      "metadata": {
        "id": "LnoPW58nqhuq"
      },
      "source": [
        "Durante o processo de limpeza dos dados, foi identificado que a codificação dos sinistros seguia o padrão estabelecido pela tabela TUSS. Essa padronização é valiosa, pois facilita a busca de relações entre os códigos e permite uma categorização mais refinada dos tipos de descrição.\n",
        "\n",
        "Com base nessa oportunidade, foram exploradas e incorporadas duas tabelas adicionais que aprimoram ainda mais a categorização. Essas tabelas fornecem informações complementares e contribuem para uma análise mais detalhada e organizada dos sinistros, promovendo uma compreensão mais abrangente dos dados."
      ]
    },
    {
      "cell_type": "code",
      "execution_count": null,
      "metadata": {
        "colab": {
          "base_uri": "https://localhost:8080/",
          "height": 206
        },
        "id": "kn050Tqjqhuq",
        "outputId": "590d424d-a78c-4197-c578-9a10ea849988"
      },
      "outputs": [],
      "source": [
        "tuss = pd.read_csv('tuss.csv')\n",
        "tuss.head()"
      ]
    },
    {
      "cell_type": "markdown",
      "metadata": {
        "id": "4BzvcPEOqhuq"
      },
      "source": [
        "\n",
        "A primeira ação a ser realizada com a nova base de dados é a separação das atividades médicas dos serviços associados à medicina, como fisioterapia e procedimentos odontológicos. Essa distinção permitirá uma organização mais clara e uma análise mais eficiente dos dados, facilitando a categorização e o processamento subsequente das informações."
      ]
    },
    {
      "cell_type": "code",
      "execution_count": null,
      "metadata": {
        "id": "_kk34W44qhur"
      },
      "outputs": [],
      "source": [
        "servicos = ['FISIOTERAPIA', 'PSICOLOGIA','NUTRIÇÃO', 'FONOAUDIOLOGIA', 'TERAPIA OCUPACIONAL', 'OUTROS SERVIÇOS', 'ENFERMAGEM', 'PROCEDIMENTOS ODONTOLÓGICOS']\n",
        "tuss_servicos = tuss[tuss['categoria'].isin(servicos)]\n",
        "tuss = tuss[~tuss['categoria'].isin(servicos)]"
      ]
    },
    {
      "cell_type": "markdown",
      "metadata": {
        "id": "ca3Z9Tvwqhur"
      },
      "source": [
        "Essa separação resultou em duas tabelas distintas, armazenadas nas variáveis tuss e tuss_servicos. A tabela tuss contém os procedimentos médicos, enquanto a tabela tuss_servicos abrange os serviços associados à medicina.\n",
        "\n",
        "Com a separação concluída, inicia-se o processo de categorização dos serviços médicos. Primeiramente, é necessário converter os valores das colunas 'Codigo Servico Sinistro' do banco de dados principal e 'codigo' do banco de dados tuss para o formato de string.\n",
        "\n",
        "Dado que a padronização de categorização é feita com base nos 5 primeiros algarismos da string, esses 5 algarismos serão extraídos e adicionados a uma nova coluna chamada codigo_prefixo.\n",
        "\n",
        "Com isso feito, utiliza-se o método `.merge()` do pandas para combinar as duas tabelas com base na nova coluna codigo_prefixo. Esse método realiza uma junção entre os dataframes, permitindo que se associe cada entrada da tabela principal com a tabela tuss usando o prefixo do código como chave de correspondência.\n",
        "\n",
        "O método `.merge()` do pandas é altamente versátil e pode ser configurado para realizar diferentes tipos de junções, como junção interna (inner join), junção externa (outer join), junção à esquerda (left join) ou junção à direita (right join). No contexto desta operação, utiliza-se uma junção à esquerda (left join)."
      ]
    },
    {
      "cell_type": "code",
      "execution_count": null,
      "metadata": {
        "colab": {
          "base_uri": "https://localhost:8080/",
          "height": 423
        },
        "id": "whl4GS3vqhur",
        "outputId": "22832fc7-db19-4928-ef46-e5d8d3518c1f"
      },
      "outputs": [],
      "source": [
        "bd['Codigo Servico Sinistro'] = bd['Codigo Servico Sinistro'].astype(str)\n",
        "tuss['codigo'] = tuss['codigo'].astype(str)\n",
        "bd['codigo_prefixo'] = bd['Codigo Servico Sinistro'].str[:5]\n",
        "tuss['codigo_prefixo'] = tuss['codigo'].str[:5]\n",
        "\n",
        "\n",
        "bd = pd.merge(bd, tuss[['codigo_prefixo', 'categoria']], on='codigo_prefixo', how='left')\n",
        "bd.head(3)"
      ]
    },
    {
      "cell_type": "markdown",
      "metadata": {
        "id": "-uBNAjaqqhur"
      },
      "source": [
        "Com a utilização do método `.merge()`, foi possível adicionar uma coluna chamada categoria ao dataframe, a qual fornece uma categorização para os sinistros com base nos dados da tabela tuss. No entanto, ainda é necessário incorporar as categorias que não pertencem estritamente à medicina, mas que estão associadas a ela. Essas categorias estão presentes na tabela tuss_servicos.\n",
        "\n",
        "Para realizar essa adição, o próximo passo é combinar o dataframe resultante da junção anterior com a tabela tuss_servicos. Isso permitirá que as categorias associadas, como fisioterapia e procedimentos odontológicos, sejam integradas ao dataframe final.\n",
        "\n",
        "Para isso utiza-se o seguinte código para realizar a integração das categorias de serviços associados aos sinistros através de um processo estruturado. Nesse código, o método `.merge()` é utilizado para combinar o dataframe `bd` com `tuss_servicos`, com base na correspondência entre as colunas `Codigo Servico Sinistro` (do `bd`) e `codigo` (do `tuss_servicos`). A junção é feita com a opção `how='left'`, o que preserva todas as entradas do dataframe `bd` e adiciona apenas as correspondências da tabela `tuss_servicos`.\n",
        "\n",
        "Após a junção, surgem as colunas `categoria_x` e `categoria_y` no dataframe resultante. Essas colunas são geradas porque ambos os dataframes possuem uma coluna chamada `categoria`. Para distinguir a origem dos dados, o pandas adiciona os sufixos `_x` e `_y`: `categoria_x` refere-se à coluna `categoria` do dataframe `bd`, enquanto `categoria_y` refere-se à coluna `categoria` do dataframe `tuss_servicos`. A nova coluna `categoria` no dataframe `bd` é então preenchida utilizando a função `combine_first()`, que prioriza os valores da coluna `categoria_x` e preenche com os valores da coluna `categoria_y` somente quando `categoria_x` está ausente."
      ]
    },
    {
      "cell_type": "code",
      "execution_count": null,
      "metadata": {
        "colab": {
          "base_uri": "https://localhost:8080/",
          "height": 625
        },
        "id": "16PQiJYoqhur",
        "outputId": "f8b4deaf-4f47-40fe-c28c-0554e65c68a0"
      },
      "outputs": [],
      "source": [
        "tuss_servicos['codigo'] = tuss_servicos['codigo'].astype(int).astype(str)\n",
        "df_merged = pd.merge(bd, tuss_servicos, left_on='Codigo Servico Sinistro', right_on='codigo', how='left')\n",
        "bd['categoria'] = df_merged['categoria_x'].combine_first(df_merged['categoria_y'])\n",
        "bd.head()"
      ]
    },
    {
      "cell_type": "markdown",
      "metadata": {
        "id": "2dxuQ2sOqhur"
      },
      "source": [
        "Por fim, ainda sobraram alguns códigos sem categoria definida, a princípio, esses códigos serão enquadrados na categoria 'OUTROS'. Para a correção utiliza-se a função ```fillna()``` do pandas, que preenche as linhas com o valor NaN com um valor deterteminado, que no caso foi o \"OUTROS\"."
      ]
    },
    {
      "cell_type": "code",
      "execution_count": null,
      "metadata": {
        "id": "fdKqU_lyqhur"
      },
      "outputs": [],
      "source": [
        "bd['categoria'] = bd['categoria'].fillna('OUTROS')"
      ]
    },
    {
      "cell_type": "code",
      "execution_count": null,
      "metadata": {
        "colab": {
          "base_uri": "https://localhost:8080/",
          "height": 625
        },
        "id": "wCD0hUwaqhur",
        "outputId": "6792418b-6371-4248-c409-6f312f594fd2"
      },
      "outputs": [],
      "source": [
        "bd.head()"
      ]
    },
    {
      "cell_type": "markdown",
      "metadata": {
        "id": "A5HOm8DxmXfu"
      },
      "source": [
        "Com todas as categorias da tabela definidas, é possível remover as linhas que contêm categorias que aparecem apenas uma vez. Isso é justificável, pois o modelo a ser desenvolvido busca identificar padrões entre os sinistros, e categorias que ocorrem uma única vez podem ser consideradas exceções, não contribuindo de forma relevante para o modelo."
      ]
    },
    {
      "cell_type": "code",
      "execution_count": null,
      "metadata": {
        "colab": {
          "base_uri": "https://localhost:8080/",
          "height": 507
        },
        "id": "R2U_s1OGnXFE",
        "outputId": "05eb75b7-4846-44a7-c072-538016f02cdf"
      },
      "outputs": [],
      "source": [
        "bd = bd[bd['categoria'].map(bd['categoria'].value_counts()) > 1]\n",
        "bd['categoria'].value_counts()"
      ]
    },
    {
      "cell_type": "markdown",
      "metadata": {
        "id": "vqXjYUOumMTG"
      },
      "source": [
        "### Padronização e Boas Práticas"
      ]
    },
    {
      "cell_type": "markdown",
      "metadata": {
        "id": "9qlizUQhqhur"
      },
      "source": [
        "Para facilitar a manipulação dos dados, aplicaremos técnicas de boas práticas na nomeação das colunas. Utilizaremos o método snake_case, que padroniza a nomeação em letras minúsculas, separadas por underlines (_), além de padronizar os títulos no singular."
      ]
    },
    {
      "cell_type": "code",
      "execution_count": null,
      "metadata": {
        "colab": {
          "base_uri": "https://localhost:8080/"
        },
        "id": "IFrLGqPqqhus",
        "outputId": "fae70417-93c2-46f0-8ea2-8741f76a6a3f"
      },
      "outputs": [],
      "source": [
        "bd.columns"
      ]
    },
    {
      "cell_type": "code",
      "execution_count": null,
      "metadata": {
        "colab": {
          "base_uri": "https://localhost:8080/"
        },
        "id": "E5il2HQaqhut",
        "outputId": "5edc639d-c86f-4381-c156-c05b0178de4b"
      },
      "outputs": [],
      "source": [
        "bd.columns = ['codigo_empresa_sinistro', 'nome_empresa_sinistro', 'segurado',\n",
        "       'codigo_especialidade_sinistro', 'elegibilidade_sinistro',\n",
        "       'sexo_colaborador_sinistro', 'faixa_etaria_colaborador_sinistro',\n",
        "       'descricao_plano_sinistro', 'codigo_servico_sinistro',\n",
        "       'descricao_servico_sinistro', 'tipo_utilizacao_sinistro',\n",
        "       'data_ocorrencia_sinistro', 'codigo_prestador', 'nome_prestador_sinistro',\n",
        "       'valor_pago_sinistro', 'quantidade', 'ano_mes', 'codigo_prefixo','categoria']\n",
        "bd.columns"
      ]
    },
    {
      "cell_type": "markdown",
      "metadata": {
        "id": "lC1J0TGGzQYK"
      },
      "source": [
        "## Transformação de Colunas\n",
        "\n",
        "A transformação de dados é uma etapa dentro do processamento de dados, onde as variáveis são modificadas para se tornarem adequadas para análise e modelagem. Isso pode incluir a normalização ou padronização de variáveis numéricas, ajustando-as para uma escala comum, o que é importante para algoritmos que dependem de comparações de magnitude. A codificação de variáveis categóricas, como transformar categorias de texto em valores numéricos, é outra parte importante desse processo."
      ]
    },
    {
      "cell_type": "code",
      "execution_count": null,
      "metadata": {
        "colab": {
          "base_uri": "https://localhost:8080/"
        },
        "id": "SapLldNh0LZH",
        "outputId": "b56a3398-9f9a-43e6-862a-0567de989fcd"
      },
      "outputs": [],
      "source": [
        "bd.info()"
      ]
    },
    {
      "cell_type": "markdown",
      "metadata": {
        "id": "k6rzkLLIRbP-"
      },
      "source": [
        "As variáveis categóricas são aquelas que contêm valores qualitativos e precisam ser convertidas em um formato numérico para que os algoritmos de machine learning possam processá-las. A codificação assegura que as variáveis categóricas sejam compreendidas pelos modelos de forma adequada.\n",
        "\n",
        "Para identificar variáveis categóricas no DataFrame, é necessário distinguir entre diferentes tipos de dados, já que os algoritmos de machine learning geralmente requerem que todas as variáveis estejam em formato numérico. Para isso será usado o método `select_dtypes` para selecionar todas as colunas do DataFrame que são do tipo object, que normalmente indica dados textuais ou categóricos."
      ]
    },
    {
      "cell_type": "code",
      "execution_count": null,
      "metadata": {
        "colab": {
          "base_uri": "https://localhost:8080/"
        },
        "id": "civsPY1Z8VEH",
        "outputId": "18f666f7-d10f-4340-d4c9-873ccb12c3c3"
      },
      "outputs": [],
      "source": [
        "categorical_columns = bd.select_dtypes(include=['object']).columns\n",
        "\n",
        "print(\"Variáveis categóricas identificadas:\")\n",
        "print(categorical_columns)"
      ]
    },
    {
      "cell_type": "markdown",
      "metadata": {
        "id": "uDnNZw0ZRi3F"
      },
      "source": [
        "As variáveis numéricas são aquelas que representam quantidades e podem assumir valores contínuos ou discretos. Para que modelos de machine learning possam processar essas variáveis de maneira eficaz, é fundamental garantir que elas estejam no formato correto e preparadas para análise. Ao contrário das variáveis categóricas, as variáveis numéricas geralmente não necessitam de codificação complexa, mas podem requerer processamento adicional, como normalização ou padronização, para assegurar que estejam na mesma escala.\n",
        "\n",
        "Para identificar e preparar variáveis numéricas em um DataFrame, é necessário distinguir entre diferentes tipos de dados. O primeiro passo para preparar variáveis numéricas é identificar quais colunas no seu DataFrame são do tipo numérico. Isso permite saber exatamente com quais variáveis trabalhar e quais tipos de processamento podem ser necessários."
      ]
    },
    {
      "cell_type": "code",
      "execution_count": null,
      "metadata": {
        "colab": {
          "base_uri": "https://localhost:8080/"
        },
        "id": "tf_Kfl9TRjkg",
        "outputId": "436fd6a1-7245-46a9-dd4b-feec8be6c9f0"
      },
      "outputs": [],
      "source": [
        "# Selecionar variáveis numéricas do DataFrame\n",
        "\n",
        "numerical_columns = bd.select_dtypes(include=['int64', 'float64']).columns\n",
        "\n",
        "print(\"Variáveis numéricas identificadas:\")\n",
        "print(numerical_columns)"
      ]
    },
    {
      "cell_type": "markdown",
      "metadata": {
        "id": "ftWC4_9r7bh2"
      },
      "source": [
        "### Codificação das Variáveis Categóricas\n",
        "\n",
        "\n"
      ]
    },
    {
      "cell_type": "markdown",
      "metadata": {
        "id": "Fs6uIYXI9k0X"
      },
      "source": [
        "Com as variáveis categóricas identificadas para determinar a técnica de codificação adequada, é essencial identificar a natureza de cada variável. As variáveis categóricas podem ser classificadas como nominais ou ordinais. Variáveis nominais não possuem uma ordem específica entre seus valores, como nomes de empresas ou descrições de serviços. Já variáveis ordinais têm uma ordem ou hierarquia implícita, como faixas etárias ou classificações.\n",
        "\n",
        "A começar pela primeira variável categórica 'nome_empresa_sinistro' o primeiro passo é explorar para entender melhor a distribuição dos valores e como codificá-la.\n",
        "\n"
      ]
    },
    {
      "cell_type": "code",
      "execution_count": null,
      "metadata": {
        "colab": {
          "base_uri": "https://localhost:8080/"
        },
        "id": "O1gLIkI5TuW4",
        "outputId": "2536d0a4-a80d-4ae0-f00a-f27508e109bb"
      },
      "outputs": [],
      "source": [
        "bd['nome_empresa_sinistro'].unique()"
      ]
    },
    {
      "cell_type": "markdown",
      "metadata": {
        "id": "L8V0kZ5COZBM"
      },
      "source": [
        "Para a variável que possui duas categorias distintas, foi escolhida a codificação binária, uma técnica apropriada para lidar com variáveis categóricas de duas classes. Essa codificação transforma os valores categóricos em 0 e 1, o que simplifica a interpretação pelo modelo de machine learning e contribui para a simplicidade do modelo. Isso assegura que a variável seja representada de forma eficiente para que o modelo possa utilizá-la diretamente na predição, mantendo uma conexão clara entre a entrada (como o nome da empresa) e a saída desejada (resultado preditivo).\n",
        "\n",
        "Para aplicar a codificação binária à variável `nome_empresa_sinistro`, é necessário definir um mapeamento que converta os valores categóricos em valores numéricos binários. Neste caso, os valores 'UNIPAR CARBOCLORO S.A' e 'UNIPAR INDUPA DO BRASIL S.A' são mapeados para 0 e 1, respectivamente. Essa codificação pode ser implementada utilizando a função `map()` do Pandas, que substitui os valores da coluna original pelos valores numéricos definidos no mapeamento."
      ]
    },
    {
      "cell_type": "code",
      "execution_count": null,
      "metadata": {
        "id": "Fnpg6zihO-N5"
      },
      "outputs": [],
      "source": [
        "# Definir o mapeamento\n",
        "mapeamento_nome_empresa = {\n",
        "    'UNIPAR CARBOCLORO S.A': 0,\n",
        "    'UNIPAR INDUPA DO BRASIL S.A': 1\n",
        "}\n",
        "\n",
        "# Aplicar o mapeamento à coluna 'nome_empresa_sinistro'\n",
        "bd['nome_empresa_sinistro'] = bd['nome_empresa_sinistro'].map(mapeamento_nome_empresa)"
      ]
    },
    {
      "cell_type": "code",
      "execution_count": null,
      "metadata": {
        "colab": {
          "base_uri": "https://localhost:8080/"
        },
        "id": "2GBSoz84Un2a",
        "outputId": "183ef288-eeae-4696-8a81-3435f167e62b"
      },
      "outputs": [],
      "source": [
        "bd['nome_empresa_sinistro'].unique()"
      ]
    },
    {
      "cell_type": "markdown",
      "metadata": {
        "id": "uKLCrrM0P1a7"
      },
      "source": [
        "A saída array indica que a coluna nome_empresa_sinistro foi codificada corretamente utilizando a codificação binária. Os valores únicos 0 e 1 representam as duas categorias distintas presentes na coluna original, que foram convertidas para uma representação numérica binária."
      ]
    },
    {
      "cell_type": "markdown",
      "metadata": {
        "id": "coeJV9MDQMMv"
      },
      "source": [
        "Dessa mesma forma, as próximas variáveis numéricas serão codificadas."
      ]
    },
    {
      "cell_type": "code",
      "execution_count": null,
      "metadata": {
        "colab": {
          "base_uri": "https://localhost:8080/"
        },
        "id": "sCjLrGCPU1oF",
        "outputId": "7771434e-6c2d-465e-a15d-8f64413e3174"
      },
      "outputs": [],
      "source": [
        "# Verificar valores únicos da coluna 'elegibilidade_sinistro'\n",
        "print(bd['elegibilidade_sinistro'].unique())\n"
      ]
    },
    {
      "cell_type": "markdown",
      "metadata": {
        "id": "VnT43g5IWmMH"
      },
      "source": [
        "A variável elegibilidade_sinistro contém dois valores categóricos: 'TITULAR' e 'DEPENDENTE'. Para convertê-los em uma representação numérica adequada para análise, vai ser adotada a codificação binária."
      ]
    },
    {
      "cell_type": "code",
      "execution_count": null,
      "metadata": {
        "id": "lKbQDx8-VXfn"
      },
      "outputs": [],
      "source": [
        "# Definir o mapeamento para a codificação binária\n",
        "mapeamento_elegibilidade = {\n",
        "    'TITULAR': 0,\n",
        "    'DEPENDENTE': 1\n",
        "}\n",
        "\n",
        "# Aplicar a codificação binária\n",
        "bd['elegibilidade_sinistro'] = bd['elegibilidade_sinistro'].map(mapeamento_elegibilidade)"
      ]
    },
    {
      "cell_type": "code",
      "execution_count": null,
      "metadata": {
        "colab": {
          "base_uri": "https://localhost:8080/"
        },
        "id": "co35kUlPWEZf",
        "outputId": "de561784-c5d5-4dac-febc-bcf123ad9c10"
      },
      "outputs": [],
      "source": [
        "# Verificar os valores únicos após a codificação\n",
        "bd['elegibilidade_sinistro'].unique()\n"
      ]
    },
    {
      "cell_type": "markdown",
      "metadata": {
        "id": "4I9F8IC6W6md"
      },
      "source": [
        "Prosseguindo para a próxima variável categórica: sexo_colaborador_sinistro."
      ]
    },
    {
      "cell_type": "code",
      "execution_count": null,
      "metadata": {
        "colab": {
          "base_uri": "https://localhost:8080/"
        },
        "id": "7erqud3SXBiF",
        "outputId": "6ca21cc2-678c-4f14-f9de-ca51beef3c96"
      },
      "outputs": [],
      "source": [
        "# Verificar valores únicos\n",
        "print(bd['sexo_colaborador_sinistro'].unique())"
      ]
    },
    {
      "cell_type": "markdown",
      "metadata": {
        "id": "LtS6gyKAZ-l_"
      },
      "source": [
        " Os valores únicos da variável foram identificados, resultando em 'M' e 'F'."
      ]
    },
    {
      "cell_type": "code",
      "execution_count": null,
      "metadata": {
        "id": "7AX46l8GYwoZ"
      },
      "outputs": [],
      "source": [
        "# Criar o mapeamento\n",
        "mapeamento_sexo = {'M': 0, 'F': 1}\n",
        "\n",
        "# Aplicar o mapeamento\n",
        "bd['sexo_colaborador_sinistro'] = bd['sexo_colaborador_sinistro'].map(mapeamento_sexo)"
      ]
    },
    {
      "cell_type": "markdown",
      "metadata": {
        "id": "fgN5CkW2aEfN"
      },
      "source": [
        "Optou-se pela codificação binária, uma vez que a variável possui apenas duas categorias. Esta abordagem foi escolhida para simplificar o modelo, evitando a criação de múltiplas colunas adicionais.\n",
        "\n",
        "A variável foi transformada em uma coluna com valores binários, onde 'M' foi mapeado para 0 e 'F' para 1."
      ]
    },
    {
      "cell_type": "code",
      "execution_count": null,
      "metadata": {
        "colab": {
          "base_uri": "https://localhost:8080/"
        },
        "id": "VpxFpoZjY3nJ",
        "outputId": "876dd9fd-74cc-440a-9695-2135e584c4d5"
      },
      "outputs": [],
      "source": [
        "# Verificar a transformação\n",
        "print(bd['sexo_colaborador_sinistro'].unique())"
      ]
    },
    {
      "cell_type": "markdown",
      "metadata": {},
      "source": [
        "*Abaixo encontra-se uma célula que exporta o dataframe que será utilizado no notebook `sprint4_model_comparison_and_tuning`*"
      ]
    },
    {
      "cell_type": "code",
      "execution_count": null,
      "metadata": {},
      "outputs": [],
      "source": [
        "bd.to_csv('bd_cleaned.csv', index = False)"
      ]
    },
    {
      "cell_type": "markdown",
      "metadata": {
        "id": "5K9ioi2taoRb"
      },
      "source": [
        "A próxima variável a ser codificada é faixa_etaria_colaborador_sinistro."
      ]
    },
    {
      "cell_type": "code",
      "execution_count": null,
      "metadata": {
        "colab": {
          "base_uri": "https://localhost:8080/"
        },
        "id": "NizcnC_hakx9",
        "outputId": "2111206f-c4f8-4eae-bd99-4234ad170d00"
      },
      "outputs": [],
      "source": [
        "# Identificar valores únicos da variável faixa_etaria_colaborador_sinistro\n",
        "valores_unicos = bd['faixa_etaria_colaborador_sinistro'].unique()\n",
        "print(valores_unicos)"
      ]
    },
    {
      "cell_type": "markdown",
      "metadata": {
        "id": "BtNryIFZieVT"
      },
      "source": [
        " A variável `faixa_etaria_colaborador_sinistro` possui várias categorias distintas, como '59 anos ou mais', '49 a 53 anos', e assim por diante. Essas categorias representam intervalos de idade e não têm uma ordem numérica implícita ou hierárquica que poderia ser utilizada para criar uma ordem ordinal. Portanto, cada categoria é tratada como uma entidade separada.\n",
        "\n",
        "Se utilizássemos codificação binária (como 0 e 1), estaríamos assumindo uma relação ordinal entre as faixas etárias, o que não é apropriado neste caso. A codificação binária poderia induzir o modelo a interpretar uma ordem entre as faixas etárias que não existe de fato. Por exemplo, '19 a 23 anos' não é de fato menor ou maior que '24 a 28 anos' em um sentido ordinal relevante para a análise.\n",
        "\n",
        "Com o **one-hot encoding**, cada faixa etária é representada por uma coluna binária separada. Isso garante que o modelo não faça suposições sobre a relação entre as categorias e que cada faixa etária seja tratada como uma característica independente. Isso é crucial para evitar qualquer tipo de interpretação errônea dos dados pelo modelo.\n",
        "\n",
        "Portanto, a escolha do one-hot encoding para a variável `faixa_etaria_colaborador_sinistro` é fundamentada na necessidade de representar categorias não ordinais de forma clara e não ambígua. Isso garante que o modelo interprete cada faixa etária individualmente e não faça suposições incorretas sobre sua ordem ou relacionamento."
      ]
    },
    {
      "cell_type": "code",
      "execution_count": null,
      "metadata": {
        "id": "gDq00T4sA79j"
      },
      "outputs": [],
      "source": [
        "# Aplicar One-Hot Encoding na variável 'faixa_etaria_colaborador_sinistro'\n",
        "faixa_etaria_encoded = pd.get_dummies(bd['faixa_etaria_colaborador_sinistro'], prefix='faixa_etaria')\n",
        "\n",
        "# Converter os valores True/False para 0/1\n",
        "faixa_etaria_encoded = faixa_etaria_encoded.astype(int)\n",
        "\n",
        "# Adicionar as colunas codificadas ao DataFrame\n",
        "bd = pd.concat([bd, faixa_etaria_encoded], axis=1)\n"
      ]
    },
    {
      "cell_type": "markdown",
      "metadata": {
        "id": "Ik7X7SjHjqve"
      },
      "source": [
        "Este código realiza a codificação One-Hot da variável categórica `'faixa_etaria_colaborador_sinistro'`, criando colunas binárias correspondentes a cada faixa etária. Após a codificação, os valores resultantes, inicialmente representados como `True` e `False`, são convertidos para `0` e `1`, garantindo uma representação binária adequada. Em seguida, as novas colunas codificadas são adicionadas ao DataFrame original, e a coluna original é removida, uma vez que suas informações já foram transformadas."
      ]
    },
    {
      "cell_type": "code",
      "execution_count": null,
      "metadata": {
        "colab": {
          "base_uri": "https://localhost:8080/"
        },
        "id": "i8J9NUeNjObh",
        "outputId": "cab05451-a353-4674-9ddf-4ac9643249f8"
      },
      "outputs": [],
      "source": [
        "bd.columns"
      ]
    },
    {
      "cell_type": "markdown",
      "metadata": {
        "id": "j6UhUeK-j3br"
      },
      "source": [
        "A variável foi corretamente codificada utilizando one-hot encoding, resultando em dez novas colunas no DataFrame, cada uma representando uma faixa etária específica."
      ]
    },
    {
      "cell_type": "markdown",
      "metadata": {
        "id": "3cSRe_xqkXIA"
      },
      "source": [
        "Partindo para a variável descricao_plano_sinistro:"
      ]
    },
    {
      "cell_type": "code",
      "execution_count": null,
      "metadata": {
        "colab": {
          "base_uri": "https://localhost:8080/"
        },
        "id": "G4NFGJackbf_",
        "outputId": "da07736b-67c9-46c3-9fd6-75a2c90730dd"
      },
      "outputs": [],
      "source": [
        "print(bd['descricao_plano_sinistro'].unique())"
      ]
    },
    {
      "cell_type": "markdown",
      "metadata": {
        "id": "by5lUlwsknc2"
      },
      "source": [
        "A saída indica que a variável descricao_plano_sinistro possui um número limitado de categorias distintas. Nesse caso, a One-Hot Encoding é uma opção adequada para codificar a variável, pois permite representar cada categoria de forma binária sem criar uma hierarquia implícita entre elas."
      ]
    },
    {
      "cell_type": "code",
      "execution_count": null,
      "metadata": {
        "id": "VK9tIYR_krjt"
      },
      "outputs": [],
      "source": [
        "# Aplicar One-Hot Encoding na variável 'descricao_plano_sinistro'\n",
        "descricao_plano_encoded = pd.get_dummies(bd['descricao_plano_sinistro'], prefix='descricao_plano')\n",
        "\n",
        "# Converter os valores True/False para 0/1\n",
        "descricao_plano_encoded = descricao_plano_encoded.astype(int)\n",
        "\n",
        "# Adicionar as colunas codificadas ao DataFrame\n",
        "bd = pd.concat([bd, descricao_plano_encoded], axis=1)\n"
      ]
    },
    {
      "cell_type": "code",
      "execution_count": null,
      "metadata": {
        "colab": {
          "base_uri": "https://localhost:8080/"
        },
        "id": "ZpwnHt7tD52d",
        "outputId": "9f4c7d13-0134-4f55-98c1-c68fa6f915eb"
      },
      "outputs": [],
      "source": [
        "bd.columns"
      ]
    },
    {
      "cell_type": "markdown",
      "metadata": {
        "id": "YgB0OgLSlP2c"
      },
      "source": [
        "A aplicação da codificação One-Hot Encoding na variável descricao_plano_sinistro foi concluída com sucesso. A variável foi transformada em várias colunas binárias, representando cada uma das categorias distintas originais."
      ]
    },
    {
      "cell_type": "markdown",
      "metadata": {
        "id": "0KA9Eospleoz"
      },
      "source": [
        "A próxima variável é codigo_servico_sinistro.\n",
        "\n"
      ]
    },
    {
      "cell_type": "code",
      "execution_count": null,
      "metadata": {
        "colab": {
          "base_uri": "https://localhost:8080/"
        },
        "id": "lhd4ma2tlQpP",
        "outputId": "8d109fbc-4c6b-4996-a5ec-856570a65a70"
      },
      "outputs": [],
      "source": [
        "# Verificar valores únicos\n",
        "bd['codigo_servico_sinistro'].unique()"
      ]
    },
    {
      "cell_type": "code",
      "execution_count": null,
      "metadata": {
        "colab": {
          "base_uri": "https://localhost:8080/",
          "height": 397
        },
        "id": "d9MiY2CUHf52",
        "outputId": "507482bb-6350-4f73-f11d-ff59b7f55202"
      },
      "outputs": [],
      "source": [
        "bd['codigo_servico_sinistro'].head(10)"
      ]
    },
    {
      "cell_type": "markdown",
      "metadata": {
        "id": "PMh_jwPRND4n"
      },
      "source": [
        "A variável `codigo_servico_sinistro` não será codificada de outra forma, pois já está codificada de acordo com a TUSS (Terminologia Unificada da Saúde Suplementar). A TUSS é uma tabela padronizada utilizada no Brasil para a classificação e codificação de procedimentos, serviços e diagnósticos no setor de saúde suplementar.\n",
        "\n",
        "Nesse contexto, a `codigo_servico_sinistro` contém códigos que representam de forma única e padronizada os diferentes tipos de serviços. Como esses códigos já estão em um formato numérico e padronizado conforme a TUSS, não é necessário aplicar técnicas adicionais de codificação. A codificação existente é suficiente para representar as categorias de serviço de maneira adequada e consistente com a terminologia padronizada utilizada na área da saúde."
      ]
    },
    {
      "cell_type": "markdown",
      "metadata": {
        "id": "Leq30cIiNz73"
      },
      "source": [
        "A próxima variável, `descricao_servico_sinistro`, também segue essa mesma lógica"
      ]
    },
    {
      "cell_type": "code",
      "execution_count": null,
      "metadata": {
        "colab": {
          "base_uri": "https://localhost:8080/"
        },
        "id": "RlvGtwuDNwFz",
        "outputId": "abe7cf55-af48-4b71-8798-40acb3bfe2e9"
      },
      "outputs": [],
      "source": [
        "# Verificar valores únicos\n",
        "bd['codigo_servico_sinistro'].unique()"
      ]
    },
    {
      "cell_type": "markdown",
      "metadata": {
        "id": "rEGnNS72Ndf1"
      },
      "source": [
        "Como a variável `codigo_servico_sinistro` já está codificada de acordo com a TUSS (Tabela Unificada de Saúde Suplementar), que traduz descrições textuais em códigos numéricos, a variável `descricao_servico_sinistro` não precisa de codificação adicional. A codificação do código de serviço já representa a informação necessária de forma eficiente, tornando redundante a codificação da descrição textual correspondente."
      ]
    },
    {
      "cell_type": "markdown",
      "metadata": {
        "id": "A6E5gKACOhy5"
      },
      "source": [
        "Dessa forma, é hora de codificar a variável `tipo_utilizacao_sinistro`"
      ]
    },
    {
      "cell_type": "code",
      "execution_count": null,
      "metadata": {
        "colab": {
          "base_uri": "https://localhost:8080/"
        },
        "id": "qhoLgQ74O8LO",
        "outputId": "aa87fc8b-9df9-467f-f30b-513a708d9765"
      },
      "outputs": [],
      "source": [
        "bd['tipo_utilizacao_sinistro'].unique()"
      ]
    },
    {
      "cell_type": "markdown",
      "metadata": {
        "id": "3MCYhoyHPETN"
      },
      "source": [
        "A variável `tipo_utilizacao_sinistro` possui dois valores únicos: 'REDE' e 'REEMBOLSO'. Com apenas duas categorias, a codificação binária (ou codificação de rótulo) é adequada e eficiente."
      ]
    },
    {
      "cell_type": "code",
      "execution_count": null,
      "metadata": {
        "id": "rozf1c1MPK0a"
      },
      "outputs": [],
      "source": [
        "# Aplicar Codificação Binária na variável 'tipo_utilizacao_sinistro'\n",
        "bd['tipo_utilizacao_sinistro'] = bd['tipo_utilizacao_sinistro'].map({'REDE': 0, 'REEMBOLSO': 1})"
      ]
    },
    {
      "cell_type": "code",
      "execution_count": null,
      "metadata": {
        "colab": {
          "base_uri": "https://localhost:8080/"
        },
        "id": "fkUJfe9iPOq7",
        "outputId": "c71f9094-a89d-40bf-b499-6401fc793699"
      },
      "outputs": [],
      "source": [
        "bd['tipo_utilizacao_sinistro'].unique()"
      ]
    },
    {
      "cell_type": "markdown",
      "metadata": {
        "id": "0HF6YyFWPWXP"
      },
      "source": [
        "A saída array([0, 1]) indica que a codificação foi aplicada corretamente. A variável tipo_utilizacao_sinistro foi convertida para valores binários, onde 'REDE' é representado por 0 e 'REEMBOLSO' por 1."
      ]
    },
    {
      "cell_type": "markdown",
      "metadata": {
        "id": "Z35fOj2JP46W"
      },
      "source": [
        "Em seguida, `data_ocorrencia_sinistro` representa datas e pode precisar ser transformada para facilitar a análise.\n",
        "\n",
        "Em vez de trabalhar com uma coluna de data completa, que pode ser mais difícil de interpretar diretamente para alguns modelos, dividir a data em componentes mais granulares permite que a informação seja utilizada de forma mais flexível e eficiente. Essa decomposição pode ajudar a revelar padrões e tendências que estão associados a períodos específicos, além de facilitar a inclusão desses componentes em modelos preditivos.\n",
        "\n"
      ]
    },
    {
      "cell_type": "markdown",
      "metadata": {
        "id": "p2A9WnPpws4R"
      },
      "source": [
        "Primeiro, é preciso garantir que a coluna de data esteja no formato correto"
      ]
    },
    {
      "cell_type": "code",
      "execution_count": null,
      "metadata": {
        "colab": {
          "base_uri": "https://localhost:8080/"
        },
        "id": "azdrk5H2yCCN",
        "outputId": "af91dcb5-7c3b-4e5e-bbab-5ae0a94a253c"
      },
      "outputs": [],
      "source": [
        "# Verificar os primeiros valores da coluna original\n",
        "print(bd['data_ocorrencia_sinistro'].head(10))"
      ]
    },
    {
      "cell_type": "markdown",
      "metadata": {
        "id": "qfZDm1JNzLGm"
      },
      "source": [
        "Esse código exibiu os primeiros 10 valores da coluna data_ocorrencia_sinistro. O objetivo é visualizar o formato das datas presentes na coluna e garantir que o formato das datas está correto para a conversão subsequente. Neste caso, as datas estão no formato DD/MM/YYYY."
      ]
    },
    {
      "cell_type": "code",
      "execution_count": null,
      "metadata": {
        "colab": {
          "base_uri": "https://localhost:8080/"
        },
        "id": "PNihtApKzwlw",
        "outputId": "19b5582d-25b6-48ee-eacd-79acce0fa1dd"
      },
      "outputs": [],
      "source": [
        "print(bd['data_ocorrencia_sinistro'].head(10))"
      ]
    },
    {
      "cell_type": "code",
      "execution_count": null,
      "metadata": {
        "id": "34uyGFtRwu0L"
      },
      "outputs": [],
      "source": [
        "# Converter a coluna 'data_ocorrencia_sinistro' para o formato datetime especificando o formato\n",
        "bd['data_ocorrencia_sinistro'] = pd.to_datetime(bd['data_ocorrencia_sinistro'], format='%d/%m/%Y', errors='coerce')"
      ]
    },
    {
      "cell_type": "markdown",
      "metadata": {
        "id": "tAhSLoK0zXJc"
      },
      "source": [
        "A opção `format='%d/%m/%Y'` especifica que as datas estão no formato dia/mês/ano, o que garante que a conversão seja feita corretamente. A opção `errors='coerce'` transforma entradas que não correspondem ao formato especificado em NaT (Not a Time), o que ajuda a identificar e tratar possíveis dados inválidos."
      ]
    },
    {
      "cell_type": "code",
      "execution_count": null,
      "metadata": {
        "id": "H0gq8bCb0DWD"
      },
      "outputs": [],
      "source": [
        "bd['ano_ocorrencia'] = bd['data_ocorrencia_sinistro'].dt.year\n",
        "bd['mes_ocorrencia'] = bd['data_ocorrencia_sinistro'].dt.month\n",
        "bd['dia_ocorrencia'] = bd['data_ocorrencia_sinistro'].dt.day"
      ]
    },
    {
      "cell_type": "markdown",
      "metadata": {
        "id": "kCbgf_tq0rb6"
      },
      "source": [
        "O código acima extrai os componentes de ano, mês e dia da coluna data_ocorrencia_sinistro e os armazena em novas colunas chamadas ano_ocorrencia, mes_ocorrencia e dia_ocorrencia, respectivamente. Utilizando o método dt do pandas, que permite acessar atributos de data e hora, o código transforma a coluna original em três variáveis distintas."
      ]
    },
    {
      "cell_type": "code",
      "execution_count": null,
      "metadata": {
        "colab": {
          "base_uri": "https://localhost:8080/"
        },
        "id": "l3eZMzKX0FoO",
        "outputId": "10ab97f3-a172-4d2f-e073-3e2cb7fddd8d"
      },
      "outputs": [],
      "source": [
        "print(bd[['ano_ocorrencia', 'mes_ocorrencia', 'dia_ocorrencia']].head(10))"
      ]
    },
    {
      "cell_type": "code",
      "execution_count": null,
      "metadata": {
        "colab": {
          "base_uri": "https://localhost:8080/"
        },
        "id": "BKSmigqd0Mhc",
        "outputId": "39bd67af-5df5-482a-ab94-a03b63110b73"
      },
      "outputs": [],
      "source": [
        "bd['ano_ocorrencia'].unique()"
      ]
    },
    {
      "cell_type": "markdown",
      "metadata": {
        "id": "WTX8I5YR1dVu"
      },
      "source": [
        "O array [2023, 2024] indica que os anos presentes na coluna data_ocorrencia_sinistro são apenas 2023 e 2024. Isso sugere que todas as datas foram corretamente convertidas para anos e que não há anos fora desse intervalo."
      ]
    },
    {
      "cell_type": "code",
      "execution_count": null,
      "metadata": {
        "colab": {
          "base_uri": "https://localhost:8080/"
        },
        "id": "clqEEvi40XW_",
        "outputId": "acaa16c7-e1a8-4a5a-b644-d762e77fdb4c"
      },
      "outputs": [],
      "source": [
        "bd['mes_ocorrencia'].unique()"
      ]
    },
    {
      "cell_type": "markdown",
      "metadata": {
        "id": "7V95_pbM1i1J"
      },
      "source": [
        "Esse array, mostra que todos os meses do ano estão representados. A presença de todos os números de 1 a 12 indica que a extração dos meses das datas foi feita corretamente e que a coluna `mes_ocorrencia` cobre todo o ano de forma abrangente."
      ]
    },
    {
      "cell_type": "code",
      "execution_count": null,
      "metadata": {
        "colab": {
          "base_uri": "https://localhost:8080/"
        },
        "id": "kim0HaoH0cRE",
        "outputId": "f3eacde4-23b1-49d2-d84c-9cad9f18cffd"
      },
      "outputs": [],
      "source": [
        "bd['dia_ocorrencia'].unique()"
      ]
    },
    {
      "cell_type": "markdown",
      "metadata": {
        "id": "HE_uIIIN1sLK"
      },
      "source": [
        "O array com valores variados como [10, 17, 15, 19, 4, ...] demonstra que os dias extraídos são consistentes com os dias válidos do calendário. A diversidade dos valores sugere que a extração dos dias também foi realizada corretamente, sem indicar problemas de conversão."
      ]
    },
    {
      "cell_type": "markdown",
      "metadata": {
        "id": "Wv7P_0nS2gps"
      },
      "source": [
        "A próxima variável a ser codificada é `nome_prestador_sinistro`."
      ]
    },
    {
      "cell_type": "code",
      "execution_count": null,
      "metadata": {
        "colab": {
          "base_uri": "https://localhost:8080/"
        },
        "id": "3xeh74CO2tk-",
        "outputId": "1f89bcb2-086f-46e3-8846-ad6459346d97"
      },
      "outputs": [],
      "source": [
        "# Verificar os valores únicos na coluna 'nome_prestador_sinistro'\n",
        "print(bd['nome_prestador_sinistro'].unique())"
      ]
    },
    {
      "cell_type": "code",
      "execution_count": null,
      "metadata": {
        "colab": {
          "base_uri": "https://localhost:8080/"
        },
        "id": "kqV5L7mz3NIX",
        "outputId": "5b9deaf0-8c4a-4d15-83b7-d08490b0b6f1"
      },
      "outputs": [],
      "source": [
        "# Contar o número de prestadores únicos\n",
        "num_prestadores_unicos = bd['nome_prestador_sinistro'].nunique()\n",
        "print(f\"Número de prestadores únicos: {num_prestadores_unicos}\")"
      ]
    },
    {
      "cell_type": "markdown",
      "metadata": {
        "id": "4ENTX5tOKCJU"
      },
      "source": [
        "Para a variável `nome_prestador_sinistro`, que possui 1.349 prestadores únicos, o uso de Label Encoding é o mais adequado. Isso porque essa técnica atribui um número inteiro a cada categoria, o que ajuda a manter a simplicidade do DataFrame sem criar um grande número de colunas adicionais, como ocorreria com One-Hot Encoding. Além disso, como o objetivo é codificar uma variável categórica com muitas categorias distintas, o Label Encoding facilita a transformação da variável em um formato numérico sem perder a representatividade das categorias originais."
      ]
    },
    {
      "cell_type": "code",
      "execution_count": null,
      "metadata": {
        "id": "YAQYKlHWKRMV"
      },
      "outputs": [],
      "source": [
        "# Instanciar o LabelEncoder\n",
        "label_encoder = LabelEncoder()\n",
        "\n",
        "# Aplicar o Label Encoding na coluna 'nome_prestador_sinistro'\n",
        "bd['nome_prestador_sinistro'] = label_encoder.fit_transform(bd['nome_prestador_sinistro'])"
      ]
    },
    {
      "cell_type": "markdown",
      "metadata": {
        "id": "z92t1lgiKUxO"
      },
      "source": [
        "Este código irá transformar cada nome de prestador em um número inteiro, mantendo a variável no DataFrame original bd. O próximo passo é verificar se a codificação foi feita corretamente, conferindo as primeiras linhas da coluna codificada ou os valores únicos gerados."
      ]
    },
    {
      "cell_type": "code",
      "execution_count": null,
      "metadata": {
        "colab": {
          "base_uri": "https://localhost:8080/"
        },
        "id": "tJ__pCBuKkgT",
        "outputId": "2ea02dd1-b5ea-409e-a4a9-761c3c67f968"
      },
      "outputs": [],
      "source": [
        "# Verificar os valores únicos da coluna codificada\n",
        "print(bd['nome_prestador_sinistro'].unique())"
      ]
    },
    {
      "cell_type": "code",
      "execution_count": null,
      "metadata": {
        "colab": {
          "base_uri": "https://localhost:8080/"
        },
        "id": "U5Di-DTaKrfb",
        "outputId": "e88b997f-b3fb-4cc8-e59a-042c18dd0871"
      },
      "outputs": [],
      "source": [
        "# Contar o número de prestadores únicos\n",
        "num_prestadores_unicos = bd['nome_prestador_sinistro'].nunique()\n",
        "print(f\"Número de prestadores únicos: {num_prestadores_unicos}\")"
      ]
    },
    {
      "cell_type": "markdown",
      "metadata": {
        "id": "bxPPIsL2LaGy"
      },
      "source": [
        "As saídas mostram que a codificação da coluna nome_prestador_sinistro foi realizada com sucesso, convertendo os nomes dos prestadores em números inteiros únicos. A verificação revelou 1349 prestadores distintos, confirmando que o número de categorias únicas foi mantido após a aplicação do Label Encoding."
      ]
    },
    {
      "cell_type": "markdown",
      "metadata": {
        "id": "VW168CvHLpgg"
      },
      "source": [
        "Por fim, faltam duas variáveis, `codigo_prefixo` e `categoria`\n",
        "\n",
        "A coluna `codigo_prefixo` foi criada para identificar os prefixos dos códigos de serviço, e essa identificação já é consistente com o padrão da TUSS. Além disso, a coluna `categoria` foi preenchida com base na correspondência com a tabela TUSS e, posteriormente, com a tabela tuss_servicos, que inclui categorias adicionais associadas aos serviços médicos. Dessa forma, ambas as colunas já estão adequadamente categorizadas e não necessitam de uma codificação adicional, pois a categorização fornecida pela tabela TUSS e suas complementações são suficientes para a análise dos dados."
      ]
    },
    {
      "cell_type": "markdown",
      "metadata": {
        "id": "5pvR9vP_O-Fj"
      },
      "source": [
        "**Conclusão**\n",
        "\n",
        "Nesta seção, foram aplicadas diferentes técnicas de codificação para preparar as variáveis categóricas do dataset para análise e modelagem. A escolha dos métodos seguiu as características específicas de cada variável:\n",
        "\n",
        "* **Codificação Binária:** Utilizada para variáveis com duas categorias distintas, como `nome_empresa_sinistro`, `elegibilidade_sinistro` e `sexo_colaborador_sinistro. Essa abordagem simplifica a representação, convertendo cada categoria em um valor binário (0 ou 1).\n",
        "\n",
        "* **One-Hot Encoding:** Aplicado a variáveis com múltiplas categorias distintas, como `faixa_etaria_colaborador_sinistro` e `descricao_plano_sinistro`. Esse método cria colunas adicionais para cada categoria, evitando a introdução de ordens incorretas entre elas.\n",
        "\n",
        "* **Label Encoding:** Escolhido para `nome_prestador_sinistro`, uma variável com alta cardinalidade. Essa técnica converte os valores em números inteiros, preservando a estrutura dos dados sem criar ordens artificiais.\n",
        "\n",
        "* **Separação de Data:** A variável `data_ocorrencia_sinistro` foi dividida em três colunas: dia, mês e ano. Isso facilita a análise temporal e permite explorar padrões sazonais e anuais de forma mais detalhada.\n",
        "\n",
        "* **Não Codificadas:** Algumas variáveis, como `codigo_servico_sinistro`, `descricao_servico_sinistro`, `codigo_prefixo` e `categoria`, foram mantidas em seu formato original. A codificação dessas variáveis não foi necessária pois já estavam adequadamente categorizadas com base em padrões existentes ou por suas características específicas."
      ]
    },
    {
      "cell_type": "markdown",
      "metadata": {
        "id": "mvQd_MwzQcbp"
      },
      "source": [
        "### Codificação das Variáveis Numéricas\n",
        "\n"
      ]
    },
    {
      "cell_type": "markdown",
      "metadata": {
        "id": "RO_JVcfPS4q_"
      },
      "source": [
        "Com as variáveis identificadas anteriormente, no processo de codificação das variáveis numéricas, é importante destacar que as colunas `codigo_empresa_sinistro`, `segurado`, `codigo_especialidade_sinistro` e `codigo_prestador` já estão devidamente codificadas conforme necessário. Além disso, a variável `ano_mes`, que também é numérica, já foi tratada no contexto das variáveis categóricas, onde foi adequadamente convertida para categorias distintas. Com esses passos concluídos, as variáveis restantes a serem abordadas são `valor_pago_sinistro` e `quantidade`, que exigem uma análise mais detalhada para garantir a correta preparação dos dados para modelagem.\n",
        "\n",
        "Com os outliers já tratados na seção 'Tratamento de Outliers', é possível prosseguir para a normalização ou padronização das variáveis numéricas, garantindo que todas as variáveis estejam em uma escala comparável e possam ser usadas efetivamente nos algoritmos de machine learning."
      ]
    },
    {
      "cell_type": "code",
      "execution_count": null,
      "metadata": {
        "colab": {
          "base_uri": "https://localhost:8080/",
          "height": 848
        },
        "id": "p6_Ki4nqX3lK",
        "outputId": "624b60d1-9b15-46dd-8502-b47f1f66dba4"
      },
      "outputs": [],
      "source": [
        "# Criar o histograma da coluna 'valor_pago_sinistro'\n",
        "plt.figure(figsize=(10, 10))\n",
        "plt.hist(bd['valor_pago_sinistro'].dropna(), bins=50, edgecolor='k', alpha=0.7, color='#008a26')\n",
        "plt.title('Histograma de Valor Pago Sinistro')\n",
        "plt.xlabel('Valor Pago')\n",
        "plt.ylabel('Frequência')\n",
        "plt.grid(True)\n",
        "plt.show()"
      ]
    },
    {
      "cell_type": "markdown",
      "metadata": {
        "id": "OwjfUHo_ZG_7"
      },
      "source": [
        "Com base na descrição revisada do histograma para a coluna `valor_pago_sinistro`, onde uma enorme maioria dos valores está concentrada entre 0 e 20.000 bem mais próximos de 0 e a frequência é muito alta nessa faixa. Isso é característico de muitas variáveis financeiras ou de valor onde poucos registros têm valores muito altos em comparação com a maioria.\n",
        "\n",
        "Nesse caso, uma padronização usando a Escala Z-score é a escolha mais adequada. A padronização ajusta os dados para terem uma média de 0 e um desvio padrão de 1, o que ajuda a lidar com a alta concentração de valores baixos e valores extremos. Ao transformar os dados para uma escala comum, a padronização torna os dados menos sensíveis a essas variações extremas e a presença de valores atípicos.\n",
        "\n",
        "A normalização por escalonamento linear, que ajusta os dados para uma faixa específica, como 0 a 1, não é ideal nesse caso devido à sua distribuição enviesada e presença de valores extremos. Em uma distribuição com muitos valores concentrados em uma faixa pequena e alguns valores muito altos, a normalização pode distorcer a análise ao comprimir os valores extremos e não representar adequadamente a dispersão dos dados. Isso pode levar a uma perda significativa de informação e afetar negativamente o desempenho dos modelos de machine learning."
      ]
    },
    {
      "cell_type": "code",
      "execution_count": null,
      "metadata": {
        "id": "TL_6jngOaLxQ"
      },
      "outputs": [],
      "source": [
        "media = bd['valor_pago_sinistro'].mean()\n",
        "desvio_padrao = bd['valor_pago_sinistro'].std()"
      ]
    },
    {
      "cell_type": "markdown",
      "metadata": {
        "id": "iUlQeJ2PaQ7V"
      },
      "source": [
        "Primeiramente, foi determinado a média e o desvio padrão dos valores da coluna. Esses parâmetros são essenciais para o ajuste dos dados."
      ]
    },
    {
      "cell_type": "code",
      "execution_count": null,
      "metadata": {
        "id": "3FQASYDTaUuQ"
      },
      "outputs": [],
      "source": [
        "bd['valor_pago_sinistro'] = (bd['valor_pago_sinistro'] - media) / desvio_padrao"
      ]
    },
    {
      "cell_type": "markdown",
      "metadata": {
        "id": "y80-mIe0aZTL"
      },
      "source": [
        "Em seguida, foi utilizada a fórmula de padronização para transformar os dados, ajustando os valores de forma que a média seja 0 e o desvio padrão seja 1.\n",
        "\n",
        "Após a padronização, é necessário confirmar que a média dos valores padronizados está próxima de 0 e que o desvio padrão está próximo de 1. Utilizando os seguintes comandos para verificar:"
      ]
    },
    {
      "cell_type": "code",
      "execution_count": null,
      "metadata": {
        "colab": {
          "base_uri": "https://localhost:8080/"
        },
        "id": "sqTUf6chaoqT",
        "outputId": "7f3c7281-f6c2-4c48-817b-d0156f34df8c"
      },
      "outputs": [],
      "source": [
        "print(bd['valor_pago_sinistro'].mean())\n",
        "print(bd['valor_pago_sinistro'].std())"
      ]
    },
    {
      "cell_type": "code",
      "execution_count": null,
      "metadata": {
        "colab": {
          "base_uri": "https://localhost:8080/",
          "height": 480
        },
        "id": "A6Vwe-YWa1uj",
        "outputId": "8f870384-1451-4a64-8a40-f5f3780a89da"
      },
      "outputs": [],
      "source": [
        "# Criar o histograma da coluna 'valor_pago_sinistro'\n",
        "plt.hist(bd['valor_pago_sinistro'], bins=50, color='#008a26', edgecolor='k', alpha=0.7)\n",
        "plt.title('Distribuição Padronizada do Valor Pago')\n",
        "plt.xlabel('Valor Pago Padronizado')\n",
        "plt.ylabel('Frequência')\n",
        "plt.show()"
      ]
    },
    {
      "cell_type": "markdown",
      "metadata": {
        "id": "BKbRvH4Ybtrt"
      },
      "source": [
        "Após a padronização, a maioria dos dados agora está concentrada entre 0 e 10. Isso é consistente com a transformação que a padronização faz, que é ajustar a escala dos dados para ter uma média de 0 e um desvio padrão de 1. Dados que antes tinham uma ampla gama agora são ajustados para uma faixa mais estreita.\n",
        "\n",
        "A frequência ainda permanecendo alta, próxima de 100 mil, indica que a padronização não alterou o número de observações em diferentes faixas de valor, apenas ajustou a escala dos dados para um intervalo mais gerenciável.\n",
        "\n",
        "O valor máximo agora é 40, que é consistente com a nova escala de padronização. Isso sugere que a padronização expandiu a escala para que valores extremos fossem ajustados para dentro de um intervalo mais gerenciável."
      ]
    },
    {
      "cell_type": "markdown",
      "metadata": {
        "id": "_n_JOKhMVfaP"
      },
      "source": [
        "## Separação de titulares e dependentes"
      ]
    },
    {
      "cell_type": "markdown",
      "metadata": {
        "id": "hpoY-qCPqhut"
      },
      "source": [
        "Foi compreendido que o principal foco do parceiro era entender a utilização dos sinistros por parte dos colaboradores da empresa. Dessa forma, a avaliação das colunas relacionadas aos titulares do plano tornou-se prioritária. Com isso em mente, o banco de dados foi dividido em duas tabelas: uma para os titulares e outra para os dependentes, visando segmentar a pesquisa e oferecer resultados mais eficazes para solucionar o problema real do cliente."
      ]
    },
    {
      "cell_type": "code",
      "execution_count": null,
      "metadata": {
        "id": "4tF27Unzqhut"
      },
      "outputs": [],
      "source": [
        "titulares = bd.loc[bd['elegibilidade_sinistro'] == 0]\n",
        "dependentes = bd[bd['elegibilidade_sinistro'] == 1]"
      ]
    },
    {
      "cell_type": "markdown",
      "metadata": {},
      "source": [
        "*Abaixo encontra-se uma célula que exporta o dataframe que será utilizado no notebook `sprint3_base_clustering`*"
      ]
    },
    {
      "cell_type": "code",
      "execution_count": null,
      "metadata": {
        "id": "qqWZEeKJ0m_v"
      },
      "outputs": [],
      "source": [
        "bd.to_csv('bd_table.csv', index=False)"
      ]
    },
    {
      "cell_type": "code",
      "execution_count": null,
      "metadata": {
        "id": "cHeiNqkP09lO"
      },
      "outputs": [],
      "source": [
        "titulares.to_csv('titulares.csv', index=False)"
      ]
    },
    {
      "cell_type": "code",
      "execution_count": null,
      "metadata": {
        "id": "CGLJO6kj1MtJ"
      },
      "outputs": [],
      "source": [
        "dependentes.to_csv('dependentes.csv', index=False)"
      ]
    },
    {
      "cell_type": "markdown",
      "metadata": {
        "id": "MwBaB4qILdPw"
      },
      "source": [
        "# **Hipóteses**"
      ]
    },
    {
      "cell_type": "markdown",
      "metadata": {
        "id": "ldJpYfinxtzp"
      },
      "source": [
        "## **Introdução**"
      ]
    },
    {
      "cell_type": "markdown",
      "metadata": {
        "id": "9Na9dR9RySyx"
      },
      "source": [
        "A testagem de hipóteses é fundamental para uma análise de dados, capacitando os cientistas de dados a fazer inferências significativas sobre os dados (BHARATHI et al., 2023). Então, é a partir desta etapa que se faz possível extrair insights importantes em relação aos dados e às próximas ações.\n",
        "\n",
        "Após o pré-processamento, que inclui o tratamento e a limpeza dos dados, são realizadas análises exploratórias para entender melhor o comportamento dos dados. A partir dessas análises, formulam-se hipóteses que guiam investigações mais aprofundadas, envolvendo desde plotagem de gráficos a cálculos matemáticos. Esse processo permite obter conclusões e interpretações mais precisas.\n",
        "\n",
        "É importante ressaltar que as análises foram realizadas exclusivamente com os dados referentes a “titulares”, excluindo os dependentes, conforme solicitado pelo parceiro.\n"
      ]
    },
    {
      "cell_type": "markdown",
      "metadata": {
        "id": "5BTwvJRoyUEb"
      },
      "source": [
        "## **Hipótese 1: Mais sinistros são registrados durante o inverno (Junho, Julho, Agosto e Setembro).**"
      ]
    },
    {
      "cell_type": "markdown",
      "metadata": {
        "id": "FK-QtDRfyn18"
      },
      "source": [
        "As pessoas ficam doentes com mais frequência durante o inverno (O GLOBO, 2022). Tendo conhecimento deste dado, é interessante interpretar como esse fenômeno se comporta dentro da população da Unipar, logo é esperado que mais sinistros sejam registrados durante o inverno.\n",
        "\n",
        "Para esta análise é necessário gerar um novo *DataFrame* que realiza a contagem de uso de sinistro por mês/ano, utilizando as colunas “mes_ocorrencia” e “ano_ocorrencia”, dessa forma é possível realizar a plotagem de gráficos que exibirão a informação necessária para a validação da hipótese.\n",
        "Após esta separação, é feita uma concatenação entre o mês e o ano, afim de se tornar o indice do gráfico e a ordenação dos valores, para que estejam ordenados de acordo com o que as datas crescem."
      ]
    },
    {
      "cell_type": "code",
      "execution_count": null,
      "metadata": {
        "colab": {
          "base_uri": "https://localhost:8080/",
          "height": 206
        },
        "id": "Z9Xa-9Xf3UFb",
        "outputId": "7318763d-fda6-47f5-fc31-f379bc070aa7"
      },
      "outputs": [],
      "source": [
        "casos_por_mes = titulares.groupby(['mes_ocorrencia', 'ano_ocorrencia']).size().reset_index(name='counts')\n",
        "casos_por_mes['mes/ano'] = casos_por_mes['mes_ocorrencia'].astype(str).str.zfill(2) + '/' + casos_por_mes['ano_ocorrencia'].astype(str)\n",
        "casos_por_mes = casos_por_mes.sort_values(by=['ano_ocorrencia', 'mes_ocorrencia'])\n",
        "casos_por_mes.head()"
      ]
    },
    {
      "cell_type": "markdown",
      "metadata": {
        "id": "i58mKE0aFPLx"
      },
      "source": [
        "Utilizando a ferramenta do Matplotlib para plotagem de gráficos, é possível ter um feedback visual de como se comportam os casos de sinistralidade através dos meses, possibilitando enxergar possíveis picos de casos, por exemplo. Foi escolhido o gráfico de linha, afim de analisar a curva de crescimento ou queda dos dados de acordo com o tempo."
      ]
    },
    {
      "cell_type": "code",
      "execution_count": null,
      "metadata": {
        "colab": {
          "base_uri": "https://localhost:8080/",
          "height": 525
        },
        "id": "Qkwhbau8wCEA",
        "outputId": "e7b5f2bf-2f07-4164-9fdf-616b14e2f58d"
      },
      "outputs": [],
      "source": [
        "plt.figure(figsize=(10, 6))\n",
        "plt.plot(casos_por_mes['mes/ano'], casos_por_mes['counts'], color='#008a26')\n",
        "plt.xlabel('Meses')\n",
        "plt.ylabel('Número de Casos')\n",
        "plt.title('Número de Casos por Mês')\n",
        "plt.xticks(rotation=45, ha='right')\n",
        "plt.tight_layout()\n",
        "plt.show()"
      ]
    },
    {
      "cell_type": "markdown",
      "metadata": {
        "id": "9n6ZZ4EIwGDT"
      },
      "source": [
        "Após analisar os dados, percebe-se que existe um pico de casos durante julho e agosto. Estes dois meses estão no meio do inverno, uma vez que existe este pico, a hipótese se mostra verdadeira."
      ]
    },
    {
      "cell_type": "markdown",
      "metadata": {
        "id": "gv_e-2PywJPM"
      },
      "source": [
        "## **Hipótese 2: A ocorrência da sinistralidade mensal possui pouca variância.**"
      ]
    },
    {
      "cell_type": "markdown",
      "metadata": {
        "id": "vYHajW4cwQQ8"
      },
      "source": [
        "Ao observar a curva no gráfico da hipótese 1 (\"Número de Casos por Mês\"), é possível perceber que grande parte dos dados tratados estão acima de 2500, existem valores muito abaixo, mas vale ressaltar que o plano foi implementado em fevereiro de 2023 e os dados que foram disponibilizados acabam no começo de junho de 2024, então existem alguns casos de outliers.\n",
        "\n",
        "Para separar um novo DataFrame sem outliers, são definidas as condições em que se enquandram os outliers e então adiciona-se um operador de negação, tornando que a condição que procuramos é a contrária aos outliers, então é guardada em uma nova variavel, o DataFrame com as condições procuradas."
      ]
    },
    {
      "cell_type": "code",
      "execution_count": null,
      "metadata": {
        "id": "I21qrDNpwUNm"
      },
      "outputs": [],
      "source": [
        "cond1 = ~((casos_por_mes['ano_ocorrencia'] == 2023) & (casos_por_mes['mes_ocorrencia'].isin([2, 3, 4])))\n",
        "cond2 = ~((casos_por_mes['ano_ocorrencia'] == 2024) & (casos_por_mes['mes_ocorrencia'].isin([5, 6])))\n",
        "\n",
        "casos_por_mes_tratado = casos_por_mes[cond1 & cond2]"
      ]
    },
    {
      "cell_type": "markdown",
      "metadata": {
        "id": "oHqkLPGrwXxQ"
      },
      "source": [
        "O processo de plotagem do gráfico para esta hipótese é semelhante ao da hipótese 1, com a diferença que no caso desta análise foi optado pela utilização do gráfico de barras, por conta da maior facilidade para perceber os valores."
      ]
    },
    {
      "cell_type": "code",
      "execution_count": null,
      "metadata": {
        "colab": {
          "base_uri": "https://localhost:8080/",
          "height": 525
        },
        "id": "2AA725_ywZNi",
        "outputId": "bc3dbd15-2aab-45f8-ba10-04fa0a8d4491"
      },
      "outputs": [],
      "source": [
        "plt.figure(figsize=(10, 6))\n",
        "plt.bar(casos_por_mes_tratado['mes/ano'], casos_por_mes_tratado['counts'], color='#008a26')\n",
        "plt.xlabel('Meses')\n",
        "plt.ylabel('Número de Casos')\n",
        "plt.title('Número de Casos por Mês (Sem outliers)')\n",
        "plt.xticks(rotation=45, ha='right')\n",
        "plt.tight_layout()\n",
        "plt.show()"
      ]
    },
    {
      "cell_type": "markdown",
      "metadata": {
        "id": "4rBQvwQbwfBJ"
      },
      "source": [
        "Com os dados tratados, é possível observar uma pequena variação nos valores mensais, indicando que eles não diferem significativamente de um mês para outro.\n",
        "\n",
        "Para validar a hipótese, o primeiro passo é calcular a média e o desvio padrão. Essas são duas medidas estatísticas bastante utilizadas para entender o comportamento de um conjunto de dados. A média representa o valor central dos acontecimentos, enquanto o desvio padrão mede a dispersão dos dados em relação à média. A variância, que é o que se deseja calcular, é obtida ao elevar o desvio padrão ao quadrado. Se o resultado da variância for maior que a média, isso indica uma alta variabilidade nos dados.\n",
        "\n",
        "Para calcular a média, existe uma função do pandas que já calcula a média de uma coluna do DataFrame, a função em questão é a ```mean()```, e para o desvio padrão, o pandas também possui suporte, utilizando a função ```std()```."
      ]
    },
    {
      "cell_type": "code",
      "execution_count": null,
      "metadata": {
        "colab": {
          "base_uri": "https://localhost:8080/"
        },
        "id": "Dx3xYbzRwgt5",
        "outputId": "476208f2-2a2c-4401-dd6f-00e2912999b3"
      },
      "outputs": [],
      "source": [
        "media_por_mes = casos_por_mes_tratado['counts'].mean()\n",
        "desvio_padrao = casos_por_mes_tratado['counts'].std()\n",
        "\n",
        "print(f'Média de casos por mês: {media_por_mes}')\n",
        "print(f'Desvio padrão de casos por mês: {desvio_padrao}')\n",
        "print(f'Variância de casos por mês: {desvio_padrao**2}')"
      ]
    },
    {
      "cell_type": "markdown",
      "metadata": {
        "id": "epB-lAFowk-z"
      },
      "source": [
        "Neste caso, a variância é expressivamente maior que a média, o que leva à conclusão de que a hipótese é falsa. Embora a análise indique que a hipótese não se sustenta, os dados ainda apresentam uma certa normalidade, o que pode ser útil para futuras análises e gerar conclusões significativas.\n",
        "\n",
        "Dado o comportamento normal dos dados, foi aplicada a técnica da distribuição normal para identificar a probabilidade mais alta de ocorrência dos casos. Para isso, calculou-se ranges da distruibção normal dos dados.\n",
        "\n",
        "O calcúlo consiste em retirar n desvios padrões da média, a fim de entender quanto % dos dados aquela informação contempla."
      ]
    },
    {
      "cell_type": "code",
      "execution_count": null,
      "metadata": {
        "colab": {
          "base_uri": "https://localhost:8080/"
        },
        "id": "uAr9C7Wowp6q",
        "outputId": "0c13fea9-31e4-49ed-bf4d-c0f2384063d9"
      },
      "outputs": [],
      "source": [
        "print(f'Retirando um desvio padrão da média temos: {media_por_mes-desvio_padrao}')\n",
        "print(f'Ou seja, acima de {media_por_mes-desvio_padrao} equivale a 84,13% dos valores')\n",
        "print(f'E retirando dois desvios padrões da média temos: {media_por_mes-(2*desvio_padrao)}')\n",
        "print(f'Ou seja, acima de {media_por_mes-(2*desvio_padrao)} equivale a 97,72% dos valores')"
      ]
    },
    {
      "cell_type": "markdown",
      "metadata": {
        "id": "JFIwRPW7wsBM"
      },
      "source": [
        "Sendo assim, com base no comportamento dos casos mensais, é possível concluir que se espera a ocorrência de pelo menos 2.650 casos, exceto em situações atípicas, como ocorreu em dezembro de 2023 e abril de 2024."
      ]
    },
    {
      "cell_type": "markdown",
      "metadata": {
        "id": "b7J3lm2Sw2Rf"
      },
      "source": [
        "## **Hipótese 3: Em setembro, são registradas mais consultas em psicólogo.**"
      ]
    },
    {
      "cell_type": "markdown",
      "metadata": {
        "id": "WqvdY1m4w7Dh"
      },
      "source": [
        "Dentre as descrições de sinistro identificadas, “sessão de psicoterapia individual por psicólogo” foi um dos tipos de sinistros mais recorrentes entre os titulares. Nesse sentido, foi desenvolvida a hipótese de que no mês de setembro, devido à campanha brasileira de prevenção ao suicídio — \"Setembro Amarelo\", ocorreriam mais registros de consultas em psicólogo.\n",
        "\n",
        "Para visualização dos dados, foi gerado um gráfico de barras horizontais (\"Distribuição de Sinistros por Serviço\") que representa a distribuição dos diferentes serviços de sinistro que tiveram mais de 200 ocorrências de titulares. Cada barra no gráfico corresponde a uma descrição de sinistro específica, e o comprimento da barra indica o número total de registros para aquele serviço."
      ]
    },
    {
      "cell_type": "code",
      "execution_count": null,
      "metadata": {
        "colab": {
          "base_uri": "https://localhost:8080/",
          "height": 588
        },
        "id": "7eiPD0AaxPH7",
        "outputId": "006bf1d3-59ec-4046-99c0-5ed5c8f14885"
      },
      "outputs": [],
      "source": [
        "plt.figure(figsize=(10, 10))\n",
        "\n",
        "# Filtrar as categorias com mais de 1000 ocorrências e ordena por contagem\n",
        "filtered_order = titulares['descricao_servico_sinistro'].value_counts()[titulares['descricao_servico_sinistro'].value_counts() > 200].index\n",
        "sns.countplot(data=titulares, y='descricao_servico_sinistro', order=filtered_order, color='#008a26')\n",
        "plt.title('Distribuição de Sinistros por Serviço')\n",
        "plt.xticks(rotation=0)\n",
        "plt.show()"
      ]
    },
    {
      "cell_type": "markdown",
      "metadata": {
        "id": "WL8KBwdKxSOm"
      },
      "source": [
        "Esse tipo de visualização permite identificar facilmente quais serviços foram mais frequentemente utilizados, com destaque para serviços relacionados à saúde mental, como a 'sessão de psicoterapia individual por psicólogo', que aparece entre as categorias mais registradas.\n",
        "\n",
        "Ainda, uma segunda investigação também foi abordada. O gráfico de barras apresentado abaixo (\"Quantidade de Consultas com Psicólogos por Mês\") mostra a quantidade de consultas com psicólogos por mês, conforme registrado nos dados de sinistros."
      ]
    },
    {
      "cell_type": "code",
      "execution_count": null,
      "metadata": {
        "colab": {
          "base_uri": "https://localhost:8080/",
          "height": 610
        },
        "id": "-XTLOlyoxSr_",
        "outputId": "b65aad58-a206-4ae2-8a5a-0162dced6347"
      },
      "outputs": [],
      "source": [
        "filtered_psico_df = titulares[titulares['descricao_servico_sinistro'].str.contains('psico', case=False, na=False)]\n",
        "psico_por_mes = filtered_psico_df.groupby(['ano_ocorrencia', 'mes_ocorrencia']).size().reset_index(name='quantidade')\n",
        "psico_por_mes['mes_ano'] = psico_por_mes.apply(lambda x: f\"{x['mes_ocorrencia']:02d}/{x['ano_ocorrencia']}\", axis=1)\n",
        "\n",
        "# Criar o gráfico de barras\n",
        "plt.figure(figsize=(10, 6))\n",
        "plt.bar(psico_por_mes['mes_ano'], psico_por_mes['quantidade'], color='#008a26')\n",
        "plt.xticks(rotation=45, ha='right')\n",
        "\n",
        "# Definir os rótulos do eixo x e y\n",
        "plt.xlabel('Mês/Ano')\n",
        "plt.ylabel('Quantidade de Ocorrências')\n",
        "plt.title('Quantidade de Consultas com Psicólogos por Mês')\n",
        "\n",
        "# Exibir o gráfico\n",
        "plt.show()"
      ]
    },
    {
      "cell_type": "markdown",
      "metadata": {
        "id": "RRQVmnQ0xVzM"
      },
      "source": [
        "Ao observar os dados, é possível perceber que, apesar das expectativas em torno do \"Setembro Amarelo\", o número de consultas com psicólogos não aumenta significativamente em setembro. Esse apontamento refuta a hipótese de que as consultas em psicologia aumentam no mês de conscientização sobre a importância da saúde mental.\n",
        "\n",
        "No entanto, o gráfico revela um ponto positivo: em outubro, há um aumento notável nas consultas com psicólogos, em relação a setembro. Isso sugere que o impacto do Setembro Amarelo pode não se manifestar imediatamente, mas pode ter um efeito retardado, incentivando as pessoas a buscarem ajuda no mês seguinte.\n",
        "\n",
        "Esse cenário aponta para uma oportunidade de melhoria nas campanhas de conscientização. Uma abordagem interessante seria investir em ações mais intensivas e bem consolidadas ao longo do mês de setembro, para que o impacto desejado ocorra dentro do período da campanha, além de ser sustentado nos meses subsequentes. Isso pode potencialmente aumentar a eficácia das iniciativas de promoção da saúde mental, garantindo que mais pessoas busquem o apoio necessário no momento em que a conscientização está em seu auge."
      ]
    },
    {
      "cell_type": "markdown",
      "metadata": {
        "id": "bFt09WgRxZOn"
      },
      "source": [
        "## **Hipótese 4: Os funcionários utilizam mais o plano a partir da segunda semana do mês.**"
      ]
    },
    {
      "cell_type": "markdown",
      "metadata": {
        "id": "YCBC_1UjxfOF"
      },
      "source": [
        "O parceiro informou que o plano utilizado pela Unipar é um plano de coparticipação. Nesse tipo de plano, os valores dos serviços são mais baixos em comparação com consultas sem convênio, e o custo é geralmente descontado diretamente na folha de pagamento (NOTREDAME INTERMÉDICA, 2023). Com base nisso, acredita-se que os funcionários tendem a começar a frequentar o médico apenas após a primeira semana do mês, período em que são descontadas as consultas realizadas no mês anterior, para evitar acumular custos adicionais.\n",
        "\n",
        "Nesta análise, as semanas foram divididas considerando intervalos de 7 dias, utilizando a data da consulta para determinar a semana específica do mês. Para isso, foi desenvolvida uma função que retorna qual semana aquele dia pertence com base no raciocínio anterior; ela utiliza apenas o dia como parâmetro. Então, é adicionada a coluna 'semana_ocorrencia' no DataFrame dos titulares, e, em seguida, é criada uma nova variável com um DataFrame com as semanas e a quantidade de sinistralidade."
      ]
    },
    {
      "cell_type": "code",
      "execution_count": null,
      "metadata": {
        "colab": {
          "base_uri": "https://localhost:8080/"
        },
        "id": "KGLWxwtBxfsX",
        "outputId": "2458b59a-ce4d-410f-9c59-6bdf5073f96d"
      },
      "outputs": [],
      "source": [
        "def categoriza_semana(dia):\n",
        "    if dia <= 7:\n",
        "        return 1\n",
        "    elif dia <= 14:\n",
        "        return 2\n",
        "    elif dia <= 21:\n",
        "        return 3\n",
        "    else:\n",
        "        return 4\n",
        "\n",
        "titulares['semana_ocorrencia'] = titulares['dia_ocorrencia'].apply(categoriza_semana)\n",
        "casos_por_semana = titulares.groupby('semana_ocorrencia').size().reset_index(name='counts')"
      ]
    },
    {
      "cell_type": "markdown",
      "metadata": {
        "id": "1Qtahg10xld9"
      },
      "source": [
        "O gráfico escolhido para esta análise é um gráfico de barras, que separa as semanas e indica a quantidade registrada em cada uma."
      ]
    },
    {
      "cell_type": "code",
      "execution_count": null,
      "metadata": {
        "colab": {
          "base_uri": "https://localhost:8080/",
          "height": 573
        },
        "id": "b3LvATOlxnJt",
        "outputId": "52f06839-c83b-4a3f-9b88-f03c0b56a154"
      },
      "outputs": [],
      "source": [
        "plt.figure(figsize=(9, 6))\n",
        "plt.bar(casos_por_semana['semana_ocorrencia'], casos_por_semana['counts'], color='#008a26')\n",
        "plt.xlabel('Semanas')\n",
        "plt.ylabel('Número de Casos')\n",
        "plt.title('Número de Casos por Semana')\n",
        "plt.show()"
      ]
    },
    {
      "cell_type": "markdown",
      "metadata": {
        "id": "0UGHCbHoxoq0"
      },
      "source": [
        "Ao observar o gráfico, conclui-se que a hipótese é falsa, pois a segunda e a terceira semanas apresentam menos casos de uso do plano do que a primeira. No entanto, é importante destacar que na última semana do mês há uma diferença significativa em relação às outras semanas, o que sugere que os funcionários da Unipar tendem a procurar atendimento médico com mais frequência durante esse período."
      ]
    },
    {
      "cell_type": "markdown",
      "metadata": {
        "id": "EZ2J2Nfws43n"
      },
      "source": [
        "# **Referências**"
      ]
    },
    {
      "cell_type": "markdown",
      "metadata": {
        "id": "e8dgmFql6zN0"
      },
      "source": [
        "BIKAKIS, PAPASTEFANATOS, PAPAEMMANOUIL. Big Data Exploration, Visualization and Analytics. Disponível em: https://www.researchgate.net/profile/Nikos-Bikakis/publication/337747465_Big_Data_Exploration_Visualization_and_Analytics/links/5e208691a6fdcc10156f6663/Big-Data-Exploration-Visualization-and-Analytics.pdf?_sg%5B0%5D=started_experiment_milestone&origin=journalDetail&_rtd=e30%3D. Acesso em: 22 de ago. de 2024.\n",
        "\n",
        "HARVARD, Libraries. Disponível em: https://cs50.harvard.edu/ap/2020/assets/pdfs/libraries.pdf. Acesso em: 23 de ago. de 2024\n",
        "\n",
        "M. Bharathi, T. Aditya Sai Srinivas, K. Karthik Reddy, G. Sai Chand, & M. Pavan Kumar. (2024). Quantum Leap: Hypothesis Testing in Python's Data Universe. Recent Trends in Information Technology and Its Application, 7(1), 23–28. https://doi.org/10.5281/zenodo.10393801\n",
        "\n",
        "NOTREDAME INTERMÉDICA. Como funciona a coparticipação em plano de saúde. Disponível em: https://www.gndi.com.br/blog-da-saude/como-funciona-a-coparticipacao-em-plano-de-saude. Acesso em: 29 de ago. de 2024.\n",
        "\n",
        "O GLOBO. Por que ficamos mais doentes quando está frio? Novo estudo revela motivo biológico. Disponível em: https://oglobo.globo.com/saude/medicina/noticia/2022/12/por-que-ficamos-mais-doentes-quando-esta-frio-novo-estudo-revela-motivo-biologico.ghtml. Acesso em: 28 de ago. de 2024.\n",
        "\n",
        "UNIVERSITY COLLEGE DUBLIN, Why Do Data Analysts Use Python? Disponível em: https://www.ucd.ie/professionalacademy/resources/why-do-data-analysts-use-python/#:~:text=Despite%20the%20vast%20range%20of,and%20impressive%20range%20of%20libraries. Acesso em: 23 de ago. de 2024.\n",
        "\n",
        "VALUEHOST. Data visualization: o que é, como funciona e sua importância. Disponível em: https://www.valuehost.com.br/blog/data-visualization/. Acesso em: 30 de ago. de 2024."
      ]
    }
  ],
  "metadata": {
    "colab": {
      "provenance": []
    },
    "kernelspec": {
      "display_name": "Python 3",
      "language": "python",
      "name": "python3"
    },
    "language_info": {
      "codemirror_mode": {
        "name": "ipython",
        "version": 3
      },
      "file_extension": ".py",
      "mimetype": "text/x-python",
      "name": "python",
      "nbconvert_exporter": "python",
      "pygments_lexer": "ipython3",
      "version": "3.12.4"
    }
  },
  "nbformat": 4,
  "nbformat_minor": 0
}
